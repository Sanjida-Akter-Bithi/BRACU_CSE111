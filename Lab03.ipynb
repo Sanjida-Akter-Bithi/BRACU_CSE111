{
  "nbformat": 4,
  "nbformat_minor": 0,
  "metadata": {
    "colab": {
      "provenance": [],
      "include_colab_link": true
    },
    "kernelspec": {
      "name": "python3",
      "display_name": "Python 3"
    },
    "language_info": {
      "name": "python"
    }
  },
  "cells": [
    {
      "cell_type": "markdown",
      "metadata": {
        "id": "view-in-github",
        "colab_type": "text"
      },
      "source": [
        "<a href=\"https://colab.research.google.com/github/Sanjida-Akter-Bithi/BRACU_CSE111/blob/main/Lab03.ipynb\" target=\"_parent\"><img src=\"https://colab.research.google.com/assets/colab-badge.svg\" alt=\"Open In Colab\"/></a>"
      ]
    },
    {
      "cell_type": "code",
      "execution_count": null,
      "metadata": {
        "colab": {
          "base_uri": "https://localhost:8080/"
        },
        "id": "_TzBjGTTk3-S",
        "outputId": "7239aa8b-1606-42dd-a641-54040abb13b4"
      },
      "outputs": [
        {
          "output_type": "stream",
          "name": "stdout",
          "text": [
            "Integer\n",
            "1234\n",
            "=====================\n",
            "String\n",
            "Hello\n",
            "=====================\n",
            "Float\n",
            "4.0\n"
          ]
        }
      ],
      "source": [
        "#Task1\n",
        "class DataType:\n",
        "  def __init__(self,n,v):\n",
        "    self.name = n\n",
        "    self.value = v\n",
        "\n",
        "#Driver\n",
        "data_type1 = DataType('Integer', 1234)\n",
        "print(data_type1.name)\n",
        "print(data_type1.value)\n",
        "print('=====================')\n",
        "data_type2 = DataType('String', 'Hello')\n",
        "print(data_type2.name)\n",
        "print(data_type2.value)\n",
        "print('=====================')\n",
        "data_type3 = DataType('Float', 4.0)\n",
        "print(data_type3.name)\n",
        "print(data_type3.value)\n",
        "\n"
      ]
    },
    {
      "cell_type": "code",
      "source": [
        "#task 2\n",
        "\n",
        "class Joker:\n",
        "  def __init__(self,name,power,is_he_psycho):\n",
        "    self.name = name\n",
        "    self.power = power\n",
        "    self.is_he_psycho = is_he_psycho\n",
        "\n",
        "#Driver\n",
        "j1 = Joker('Heath Ledger', 'Mind Game', False)\n",
        "print(j1.name)\n",
        "print(j1.power)\n",
        "print(j1.is_he_psycho)\n",
        "print('=====================')\n",
        "j2 = Joker('Joaquin Phoenix', 'Laughing out Loud', True)\n",
        "print(j2.name)\n",
        "print(j2.power)\n",
        "print(j2.is_he_psycho)\n",
        "print('=====================')\n",
        "if j1 == j2:\n",
        "    print('same')\n",
        "else:\n",
        "    print('different')\n",
        "j2.name = 'Heath Ledger'\n",
        "if j1.name == j2.name:\n",
        "    print('same')\n",
        "else:\n",
        "    print('different')\n",
        "\n"
      ],
      "metadata": {
        "colab": {
          "base_uri": "https://localhost:8080/"
        },
        "id": "YvqLzDqJov9j",
        "outputId": "5c95636d-25a4-4f9a-d7d9-7344f45b7acb"
      },
      "execution_count": null,
      "outputs": [
        {
          "output_type": "stream",
          "name": "stdout",
          "text": [
            "Heath Ledger\n",
            "Mind Game\n",
            "False\n",
            "=====================\n",
            "Joaquin Phoenix\n",
            "Laughing out Loud\n",
            "True\n",
            "=====================\n",
            "different\n",
            "The output is 'different' because both the object j1 and j2 are stored in different location\n",
            "same\n",
            "Though j1 and j2 are two different objects and they are stored in two different locations.\n",
            "As, j1.name field is the same to j2.name field.\n"
          ]
        }
      ]
    },
    {
      "cell_type": "code",
      "source": [
        "#task 3\n",
        "class Pokemon:\n",
        "  def __init__(self,n1,n2,p1,p2,rate):\n",
        "    self.pokemon1_name = n1\n",
        "    self.pokemon2_name = n2\n",
        "    self.pokemon1_power = p1\n",
        "    self.pokemon2_power = p2\n",
        "    self.damage_rate = rate\n",
        "\n",
        "\n",
        "#Driver1\n",
        "team_pika = Pokemon('pikachu', 'charmander', 90, 60, 10)\n",
        "print('=======Team 1=======')\n",
        "print('Pokemon 1:',team_pika.pokemon1_name, team_pika.pokemon1_power)\n",
        "print('Pokemon 2:',team_pika.pokemon2_name, team_pika.pokemon2_power)\n",
        "pika_combined_power = (team_pika.pokemon1_power + team_pika.pokemon2_power) * team_pika.damage_rate\n",
        "print('Combined Power:', pika_combined_power)\n",
        "#Driver2\n",
        "team_pika = Pokemon( 'bulbasaur', 'squirtle', 80, 70, 9)\n",
        "print('=======Team 2=======')\n",
        "print('Pokemon 1:',team_pika.pokemon1_name, team_pika.pokemon1_power)\n",
        "print('Pokemon 2:',team_pika.pokemon2_name, team_pika.pokemon2_power)\n",
        "pika_combined_power = (team_pika.pokemon1_power + team_pika.pokemon2_power) * team_pika.damage_rate\n",
        "print('Combined Power:', pika_combined_power)\n",
        "\n"
      ],
      "metadata": {
        "id": "PbHEPYgZ9t8U"
      },
      "execution_count": null,
      "outputs": []
    },
    {
      "cell_type": "code",
      "source": [
        "#task 4\n",
        "class Country:\n",
        "  def __init__(self,n=\"Bangladesh\",cont=\"Asia\",cap = \"Dhaka\",fifarank=187):\n",
        "    self.name = n\n",
        "    self.continent = cont\n",
        "    self.fifa_ranking = fifarank\n",
        "    self.capital = cap\n",
        "#Driver\n",
        "country = Country()\n",
        "print('Name:',country.name)\n",
        "print('Continent:',country.continent)\n",
        "print('Capital:',country.capital)\n",
        "print('Fifa Ranking:',country.fifa_ranking)\n",
        "print('===================')\n",
        "country.name = 'Belgium'\n",
        "country.continent = 'Europe'\n",
        "country.capital = 'Brussels'\n",
        "country.fifa_ranking = 1\n",
        "print('Name:',country.name)\n",
        "print('Continent:',country.continent)\n",
        "print('Capital:',country.capital)\n",
        "print('Fifa Ranking:',country.fifa_ranking)"
      ],
      "metadata": {
        "colab": {
          "base_uri": "https://localhost:8080/"
        },
        "id": "tVAPign8spG5",
        "outputId": "e1f7606e-c688-4b52-8f1e-50d206cd910a"
      },
      "execution_count": null,
      "outputs": [
        {
          "output_type": "stream",
          "name": "stdout",
          "text": [
            "Name: Bangladesh\n",
            "Continent: Asia\n",
            "Capital: Dhaka\n",
            "Fifa Ranking: 187\n",
            "===================\n",
            "Name: Belgium\n",
            "Continent: Europe\n",
            "Capital: Brussels\n",
            "Fifa Ranking: 1\n"
          ]
        }
      ]
    },
    {
      "cell_type": "code",
      "source": [
        "#task 5\n",
        "class DemonSlayer:\n",
        "    def __init__(self,name,style,techs,kill):\n",
        "        self.name = name\n",
        "        self.style = style\n",
        "        self.number_of_technique = techs\n",
        "        self.kill = kill\n",
        "\n",
        "#driver\n",
        "tanjiro = DemonSlayer(\"Tanjiro\", \"Water Breathing\", 10, 10)\n",
        "print('Name:',tanjiro.name)\n",
        "print('Fighting Style:',tanjiro.style)\n",
        "print(f'Knows {tanjiro.number_of_technique} technique(s) and has killed {tanjiro.kill} demon(s)')\n",
        "print('===================')\n",
        "zenitsu = DemonSlayer(\"Zenitsu\", \"Thunder Breathing\", 1, 4)\n",
        "print('Name:',zenitsu.name)\n",
        "print('Fighting Style:',zenitsu.style)\n",
        "print(f'Knows {zenitsu.number_of_technique} technique(s) and has killed {zenitsu.kill} demon(s)')\n",
        "print('===================')\n",
        "inosuke = DemonSlayer(\"Inosuke\", \"Beast Breathing\", 5, 7)\n",
        "print('Name:',inosuke.name)\n",
        "print('Fighting Style:',inosuke.style)\n",
        "print(f'Knows {inosuke.number_of_technique} technique(s) and has killed {inosuke.kill} demon(s)')\n",
        "print('===================')\n",
        "print(f'{tanjiro.name}, {zenitsu.name}, {inosuke.name} knows total {tanjiro.number_of_technique + zenitsu.number_of_technique + inosuke.number_of_technique} techniques')\n",
        "print(f'They have killed total {tanjiro.kill + zenitsu.kill + inosuke.kill} demons')\n"
      ],
      "metadata": {
        "id": "mtZxLRfW87vE"
      },
      "execution_count": null,
      "outputs": []
    },
    {
      "cell_type": "code",
      "source": [
        "#task 6\n",
        "class box:\n",
        "  def __init__(self,t):\n",
        "    h,w,b = t\n",
        "    self.height = h\n",
        "    self.width = w\n",
        "    self.breadth = b\n",
        "    print(\"Creating a Box!\")\n",
        "    volume = self.height*self.width*self.breadth\n",
        "    print(f\"Volume of the box is {volume} cubic units.\")\n",
        "\n",
        "#Driver\n",
        "print(\"Box 1\")\n",
        "b1 = box([10,10,10])\n",
        "print(\"=========================\")\n",
        "print(\"Height:\", b1.height)\n",
        "print(\"Width:\", b1.width)\n",
        "print(\"Breadth:\", b1.breadth)\n",
        "print(\"-------------------------\")\n",
        "print(\"Box 2\")\n",
        "b2 = box((30,10,10))\n",
        "print(\"=========================\")\n",
        "print(\"Height:\", b2.height)\n",
        "print(\"Width:\", b2.width)\n",
        "print(\"Breadth:\", b2.breadth)\n",
        "b2.height = 300\n",
        "print(\"Updating Box 2!\")\n",
        "print(\"Height:\", b2.height)\n",
        "print(\"Width:\", b2.width)\n",
        "print(\"Breadth:\", b2.breadth)\n",
        "print(\"-------------------------\")\n",
        "print(\"Box 3\")\n",
        "b3 = b2\n",
        "print(\"Height:\", b3.height)\n",
        "print(\"Width:\", b3.width)\n",
        "print(\"Breadth:\", b3.breadth)\n"
      ],
      "metadata": {
        "id": "YWTSgOMOwOee"
      },
      "execution_count": null,
      "outputs": []
    },
    {
      "cell_type": "code",
      "source": [
        "#task 7\n",
        "class buttons:\n",
        "  def __init__(self,word,spaces,border):\n",
        "    self.word = word\n",
        "    self.spaces = spaces\n",
        "    self.border = border\n",
        "    border_len = (2+2*spaces+len(word))\n",
        "    border_1 = border_len*border\n",
        "\n",
        "    print(f'''{word} Button Specifications:\n",
        "Button name: {word}\n",
        "Number of the border characters for the top and the bottom: {len(border_1)}\n",
        "Number of spaces between the left side border and the first character of the button name: {spaces}\n",
        "Number of spaces between the right side border and the last character of the button name: {spaces}\n",
        "Characters representing the borders: {border}\n",
        "''')\n",
        "    print(border_1)\n",
        "    print(border+\" \"*spaces+word+\" \"*spaces+border)\n",
        "    print(border_1)\n",
        "\n",
        "#Driver\n",
        "word = \"CANCEL\"\n",
        "spaces = 10\n",
        "border = 'x'\n",
        "b1 = buttons(word, spaces, border)\n",
        "print(\"=======================================================\")\n",
        "b2 = buttons(\"Notify\",3, '!')\n",
        "print(\"=======================================================\")\n",
        "b3 = buttons('SAVE PROGRESS', 5, '$')\n"
      ],
      "metadata": {
        "colab": {
          "base_uri": "https://localhost:8080/"
        },
        "id": "Fuv5UBWPBSeB",
        "outputId": "1f97b5ff-3314-454a-8c28-b6c60228b9b1"
      },
      "execution_count": null,
      "outputs": [
        {
          "output_type": "stream",
          "name": "stdout",
          "text": [
            "=======Team 1=======\n",
            "Pokemon 1: pikachu 90\n",
            "Pokemon 2: charmander 60\n",
            "Combined Power: 1500\n",
            "=======Team 2=======\n",
            "Pokemon 1: squirtle 70\n",
            "Pokemon 2: bulbasaur 80\n",
            "Combined Power: 1350\n"
          ]
        }
      ]
    },
    {
      "cell_type": "code",
      "source": [
        "#task 8\n",
        "class Calculator:\n",
        "    def __init__(self,x,op,y):\n",
        "\n",
        "      self.x = x\n",
        "      self.y = y\n",
        "      self.op = op\n",
        "      print(\"Let’s Calculate!\")\n",
        "      print(f\"Value 1: {self.x}\")\n",
        "      print(f\"Operator: {self.op }\")\n",
        "      print(f\"Value 2:  {self.y}\")\n",
        "\n",
        "    def add(self):\n",
        "      print(f\"Result: {self.x + self.y}\")\n",
        "    def subtract(self):\n",
        "      print(f\"Result: {self.x - self.y}\")\n",
        "    def multiply(self):\n",
        "      print(f\"Result: {self.x * self.y}\")\n",
        "    def divide(self):\n",
        "      print(f\"Result: {self.x / self.y}\")\n",
        "\n",
        "#Driver\n",
        "x = int(input())\n",
        "op = input()\n",
        "y = int(input())\n",
        "\n",
        "a = Calculator(x,op,y)\n",
        "\n",
        "if op == \"+\":\n",
        "    a.add()\n",
        "elif op == \"-\":\n",
        "    a.subtract()\n",
        "elif op == \"*\":\n",
        "    a.multiply()\n",
        "elif op == \"/\":\n",
        "    a.divide()\n"
      ],
      "metadata": {
        "id": "wODQYMSZ9ktk"
      },
      "execution_count": null,
      "outputs": []
    },
    {
      "cell_type": "code",
      "source": [
        "#task 9\n",
        "class Patient:\n",
        "  def __init__(self,n,a,w,h):\n",
        "    self.name = n\n",
        "    self.age = a\n",
        "    self.weight = w\n",
        "    self.height = h\n",
        "    bmi = w/(h/100)**2\n",
        "    self.bmi = bmi\n",
        "  def printDetails(self):\n",
        "    print(f\"Name: {self.name}\")\n",
        "    print(f\"Age: {self.age}\")\n",
        "    print(f\"Height: {self.weight} kg\")\n",
        "    print(f\"Weight: {self.height} cm\")\n",
        "    print(f\"BMI: {self.bmi}\")\n",
        "\n",
        "#Driver\n",
        "p1 = Patient(\"A\", 55, 63.0, 158.0)\n",
        "p1.printDetails()\n",
        "print(\"====================\")\n",
        "p2 = Patient(\"B\", 53, 61.0, 149.0)\n",
        "p2.printDetails()\n"
      ],
      "metadata": {
        "id": "l-Qt0B9uJkPY"
      },
      "execution_count": null,
      "outputs": []
    },
    {
      "cell_type": "code",
      "source": [
        "#task 10\n",
        "class Vehicle:\n",
        "  def __init__(self):\n",
        "    self.x_pos = 0\n",
        "    self.y_pos = 0\n",
        "\n",
        "  def moveUp(self):\n",
        "    self.y_pos += 1\n",
        "  def moveDown(self):\n",
        "    self.y_pos -= 1\n",
        "  def moveLeft(self):\n",
        "    self.x_pos -= 1\n",
        "  def moveRight(self):\n",
        "    self.x_pos -= 1\n",
        "  def print_position(self):\n",
        "    print((self.x_pos , self.y_pos))\n",
        "\n",
        "#Driver\n",
        "car = Vehicle()\n",
        "car.print_position()\n",
        "car.moveUp()\n",
        "car.print_position()\n",
        "car.moveLeft()\n",
        "car.print_position()\n",
        "car.moveDown()\n",
        "car.print_position()\n",
        "car.moveRight()\n"
      ],
      "metadata": {
        "id": "dLhaTOLUJpwP"
      },
      "execution_count": null,
      "outputs": []
    },
    {
      "cell_type": "code",
      "source": [
        "#task 11\n",
        "class Shape:\n",
        "  def __init__(self,shape,a,b):\n",
        "    self.shape = shape\n",
        "    self.a = a\n",
        "    self.b = b\n",
        "  def area(self):\n",
        "    area = 0\n",
        "    if self.shape == \"Triangle\" or self.shape == \"Rhombus\":\n",
        "      area = 0.5 * self.a * self.b\n",
        "      print(area)\n",
        "    elif self.shape == \"Square\" or self.shape == \"Rectangle\":\n",
        "      area = self.a * self.b\n",
        "      print(area)\n",
        "    else:\n",
        "      print(\"Shape unknown\")\n",
        "\n",
        "triangle = Shape(\"Triangle\",10,25)\n",
        "triangle.area()\n",
        "print(\"==========================\")\n",
        "square = Shape(\"Square\",10,10)\n",
        "square.area()\n",
        "print(\"==========================\")\n",
        "rhombus = Shape(\"Rhombus\",18,25)\n",
        "rhombus.area()\n",
        "print(\"==========================\")\n",
        "rectangle = Shape(\"Rectangle\",15,30)\n",
        "rectangle.area()\n",
        "print(\"==========================\")\n",
        "trapezium = Shape(\"Trapezium\",15,30)\n",
        "trapezium.area()\n"
      ],
      "metadata": {
        "id": "w6SAzDDCJxkV"
      },
      "execution_count": null,
      "outputs": []
    },
    {
      "cell_type": "code",
      "source": [
        "#task 12\n",
        "class Calculator:\n",
        "    def __init__(self):\n",
        "        print(\"Calculator is ready!\")\n",
        "    def calculate(self,a,b,op):\n",
        "        self.a = a\n",
        "        self.b = b\n",
        "        self.op = op\n",
        "        if self.op == \"+\":\n",
        "            return self.a +self.b\n",
        "        elif self.op == \"-\":\n",
        "            return self.a-self.b\n",
        "        elif self.op == \"*\":\n",
        "            return self.a*self.b\n",
        "        elif self.op == \"/\":\n",
        "            return self.a/self.b\n",
        "    def showCalculation(self):\n",
        "        print(f\"{self.a} {self.op} {self.b} = {self.calculate(self.a,self.b,self.op)}\")\n",
        "\n",
        "#Driver Code\n",
        "c1 = Calculator()\n",
        "print(\"==================\")\n",
        "val = c1.calculate(10, 20, '+')\n",
        "print(\"Returned value:\", val)\n",
        "c1.showCalculation()\n",
        "print(\"==================\")\n",
        "val = c1.calculate(val, 10, '-')\n",
        "print(\"Returned value:\", val)\n",
        "c1.showCalculation()\n",
        "print(\"==================\")\n",
        "val = c1.calculate(val, 5, '*')\n",
        "print(\"Returned value:\", val)\n",
        "c1.showCalculation()\n",
        "print(\"==================\")\n",
        "val = c1.calculate(val, 16, '/')\n",
        "print(\"Returned value:\", val)\n",
        "c1.showCalculation()\n"
      ],
      "metadata": {
        "id": "kve03XOuJ27-"
      },
      "execution_count": null,
      "outputs": []
    },
    {
      "cell_type": "code",
      "source": [
        "#task 13\n",
        "class Programmer:\n",
        "  def __init__(self,n,lang,exp):\n",
        "    self.lang = lang\n",
        "    self.name = n\n",
        "    self.exp = exp\n",
        "    print(\"Horray! A new programmer is born\")\n",
        "  def printDetails(self):\n",
        "    print(f\"Name: {self.name}\\nLanguage: {self.lang}\\nExperience: {self.exp}.\")\n",
        "  def addExp(self,add):\n",
        "    print(f\"Updating experience of {self.name}\")\n",
        "    self.exp += add\n",
        "\n",
        "p1 = Programmer(\"Ethen Hunt\", \"Java\", 10)\n",
        "p1.printDetails()\n",
        "print('--------------------------')\n",
        "p2 = Programmer(\"James Bond\", \"C++\", 7)\n",
        "p2.printDetails()\n",
        "print('--------------------------')\n",
        "p3 = Programmer(\"Jon Snow\", \"Python\", 4)\n",
        "p3.printDetails()\n",
        "p3.addExp(5)\n",
        "p3.printDetails()\n"
      ],
      "metadata": {
        "colab": {
          "base_uri": "https://localhost:8080/"
        },
        "id": "qqb5BVWDBUPR",
        "outputId": "7cc8c8ba-ae52-44e0-fa0b-39778235cdea"
      },
      "execution_count": null,
      "outputs": [
        {
          "output_type": "stream",
          "name": "stdout",
          "text": [
            "Horray! A new programmer is born\n",
            "Name: Ethen Hunt\n",
            "Language: Java\n",
            "Experience: 10.\n",
            "--------------------------\n",
            "Horray! A new programmer is born\n",
            "Name: James Bond\n",
            "Language: C++\n",
            "Experience: 7.\n",
            "--------------------------\n",
            "Horray! A new programmer is born\n",
            "Name: Jon Snow\n",
            "Language: Python\n",
            "Experience: 4.\n",
            "Updating experience of Jon Snow\n",
            "Name: Jon Snow\n",
            "Language: Python\n",
            "Experience: 9.\n"
          ]
        }
      ]
    },
    {
      "cell_type": "code",
      "source": [
        "class Test:\n",
        "    def __init__(self):\n",
        "        self.sum = 0\n",
        "        self.y = 0\n",
        "\n",
        "\n",
        "    def methodA(self):\n",
        "        x=0\n",
        "        y=0\n",
        "        y = y + 7\n",
        "        x = y + 11\n",
        "        self.sum = x + y\n",
        "        print(x , y, self.sum)\n",
        "\n",
        "\n",
        "    def methodB(self):\n",
        "        x = 0\n",
        "        self.y = self.y + 11\n",
        "        x = x + 33 + self.y\n",
        "        self.sum = self.sum + x + self.y\n",
        "        print(x , self.y, self.sum)\n",
        "\n",
        "t1 = Test()\n",
        "t1.methodA()\n",
        "t1.methodA()\n",
        "t1.methodB()\n",
        "t1.methodB()\n"
      ],
      "metadata": {
        "colab": {
          "base_uri": "https://localhost:8080/"
        },
        "id": "t_e5h2I5VtFw",
        "outputId": "68386382-2f3e-40fb-e286-dbcfd23f04ad"
      },
      "execution_count": null,
      "outputs": [
        {
          "output_type": "stream",
          "name": "stdout",
          "text": [
            "18 7 25\n",
            "18 7 25\n",
            "44 11 80\n",
            "55 22 157\n"
          ]
        }
      ]
    }
  ]
}