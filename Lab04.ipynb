{
  "nbformat": 4,
  "nbformat_minor": 0,
  "metadata": {
    "colab": {
      "provenance": [],
      "authorship_tag": "ABX9TyNF03p7STLZQLIO3r9xEnbf",
      "include_colab_link": true
    },
    "kernelspec": {
      "name": "python3",
      "display_name": "Python 3"
    },
    "language_info": {
      "name": "python"
    }
  },
  "cells": [
    {
      "cell_type": "markdown",
      "metadata": {
        "id": "view-in-github",
        "colab_type": "text"
      },
      "source": [
        "<a href=\"https://colab.research.google.com/github/Sanjida-Akter-Bithi/BRACU_CSE111/blob/main/Lab04.ipynb\" target=\"_parent\"><img src=\"https://colab.research.google.com/assets/colab-badge.svg\" alt=\"Open In Colab\"/></a>"
      ]
    },
    {
      "cell_type": "code",
      "execution_count": null,
      "metadata": {
        "colab": {
          "base_uri": "https://localhost:8080/"
        },
        "id": "VAF-E7wfkdxJ",
        "outputId": "5ae2772b-11d2-4afe-e7c4-701342afbcb3"
      },
      "outputs": [
        {
          "output_type": "stream",
          "name": "stdout",
          "text": [
            "Hello!\n",
            "Sam,you purchased 3 item(s):\n",
            "chips\n",
            "chocolate\n",
            "orange juice\n",
            "-----------------------------\n",
            "Hello David!\n",
            "David,you purchased 1 item(s):\n",
            "orange juice\n"
          ]
        }
      ],
      "source": [
        "#Task 1\n",
        "class Customer:\n",
        "    def __init__(self, name):\n",
        "        self.name = name\n",
        "\n",
        "    def greet(self, name=None):\n",
        "        if name is None:\n",
        "            print(\"Hello!\")\n",
        "        else:\n",
        "            print(\"Hello \" + name + \"!\")\n",
        "\n",
        "    def purchase(self, *items):\n",
        "        print(f\"{self.name},you purchased {len(items)} item(s):\")\n",
        "        for i in items:\n",
        "            print(i)\n",
        "\n",
        "customer_1 = Customer(\"Sam\")\n",
        "customer_1.greet()\n",
        "customer_1.purchase(\"chips\", \"chocolate\", \"orange juice\")\n",
        "print(\"-----------------------------\")\n",
        "customer_2 = Customer(\"David\")\n",
        "customer_2.greet(\"David\")\n",
        "customer_2.purchase(\"orange juice\")\n",
        "\n"
      ]
    },
    {
      "cell_type": "code",
      "source": [
        "#task 02\n",
        "class Panda:\n",
        "  def __init__(self,name,gender,age):\n",
        "    self.name=name\n",
        "    self.gender=gender\n",
        "    self.age=age\n",
        "  def sleep(self,sleep=None):\n",
        "    self.sleep=sleep\n",
        "\n",
        "    if sleep==None:\n",
        "       return(f\"{self.name}'s duration is unknown thus should have  only bamboo leaves\")\n",
        "\n",
        "\n",
        "    elif 3<=sleep<=5:\n",
        "      return (f\"{self.name} sleeps {self.sleep} hours daily and should have Mixed Veggies\")\n",
        "    elif 6<=sleep<=8:\n",
        "      return (f\"{self.name} sleeps {self.sleep} hours daily and should have Eggplant & Tofu\")\n",
        "    elif 9<=sleep<=11:\n",
        "       return (f\"{self.name} sleeps {self.sleep} hours daily and should have  Broccoli Chicken\")\n",
        "\n",
        "\n",
        "\n",
        "panda1 = Panda(\"Kunfu\", \"Male\", 5)\n",
        "panda2 = Panda(\"Pan Pan\", \"Female\",3)\n",
        "panda3 = Panda(\"Ming Ming\", \"Female\",8)\n",
        "\n",
        "print(\"{} is a {} Panda Bear who is {} years old\".format(panda1.name,panda1.gender,panda1.age))\n",
        "\n",
        "print(\"{} is a {} Panda Bear who is {} years old\".format(panda2.name,panda2.gender,panda2.age))\n",
        "\n",
        "print(\"{} is a {} Panda Bear who is {} years old\".format(panda3.name,panda3.gender,panda3.age))\n",
        "print(\"===========================\")\n",
        "print(panda2.sleep(10))\n",
        "print(panda1.sleep(4))\n",
        "print(panda3.sleep())\n"
      ],
      "metadata": {
        "colab": {
          "base_uri": "https://localhost:8080/"
        },
        "id": "R1Tt39JCsc4H",
        "outputId": "d6b45ab3-6ed6-4a59-d07e-6d095d7029d9"
      },
      "execution_count": null,
      "outputs": [
        {
          "output_type": "stream",
          "name": "stdout",
          "text": [
            "Kunfu is a Male Panda Bear who is 5 years old\n",
            "Pan Pan is a Female Panda Bear who is 3 years old\n",
            "Ming Ming is a Female Panda Bear who is 8 years old\n",
            "===========================\n",
            "Pan Pan sleeps 10 hours daily and should have  Broccoli Chicken\n",
            "Kunfu sleeps 4 hours daily and should have Mixed Veggies\n",
            "Ming Ming's duration is unknown thus should have  only bamboo leaves\n"
          ]
        }
      ]
    },
    {
      "cell_type": "code",
      "source": [
        "#task 03\n",
        "class Cat:\n",
        "  def __init__ (self,color=\"White\",doing=\"sitting\"):\n",
        "    self.color=color\n",
        "    self.doing=doing\n",
        "  def changeColor(self,color):\n",
        "    self.color=color\n",
        "  def printCat(self):\n",
        "    print(f\"{self.color} cat is {self.doing}\")\n",
        "\n",
        "\n",
        "\n",
        "\n",
        "c1 = Cat()\n",
        "c2 = Cat(\"Black\")\n",
        "c3 = Cat(\"Brown\", \"jumping\")\n",
        "c4 = Cat(\"Red\", \"purring\")\n",
        "c1.printCat()\n",
        "c2.printCat()\n",
        "c3.printCat()\n",
        "c4.printCat()\n",
        "c1.changeColor(\"Blue\")\n",
        "c3.changeColor(\"Purple\")\n",
        "c1.printCat()\n",
        "c3.printCat()\n",
        "\n"
      ],
      "metadata": {
        "colab": {
          "base_uri": "https://localhost:8080/"
        },
        "id": "nqlPf1VwyQpp",
        "outputId": "0b399624-74f6-4b72-d144-e39b7ebbe018"
      },
      "execution_count": null,
      "outputs": [
        {
          "output_type": "stream",
          "name": "stdout",
          "text": [
            "White cat is sitting\n",
            "Black cat is sitting\n",
            "Brown cat is jumping\n",
            "Red cat is purring\n",
            "Blue cat is sitting\n",
            "Purple cat is jumping\n"
          ]
        }
      ]
    },
    {
      "cell_type": "code",
      "source": [
        "#Task 04\n",
        "class Student:\n",
        "  def __init__(self,name=\"Default student\"):\n",
        "    self.name = name\n",
        "\n",
        "  def quizcalc(self, *marks):\n",
        "    total = 0\n",
        "    for i in marks:\n",
        "      total += i\n",
        "    self.avg = total / 3\n",
        "  def printdetail(self):\n",
        "    print(f\"Hello {self.name}\")\n",
        "    print(f\"Your average quiz score is {self.avg}\")\n",
        "\n",
        "\n",
        "s1 = Student()\n",
        "s1.quizcalc(10)\n",
        "print('--------------------------------')\n",
        "s1.printdetail()\n",
        "s2 = Student('Harry')\n",
        "s2.quizcalc(10,8)\n",
        "print('--------------------------------')\n",
        "s2.printdetail()\n",
        "s3 = Student('Hermione')\n",
        "s3.quizcalc(10,9,10)\n",
        "print('--------------------------------')\n",
        "s3.printdetail()\n"
      ],
      "metadata": {
        "id": "xhZ_ymV458KS",
        "colab": {
          "base_uri": "https://localhost:8080/"
        },
        "outputId": "6300b2da-0bd6-4abe-e2b6-ea379fc5b5d5"
      },
      "execution_count": null,
      "outputs": [
        {
          "output_type": "stream",
          "name": "stdout",
          "text": [
            "--------------------------------\n",
            "Hello Default student\n",
            "Your average quiz score is 3.3333333333333335\n",
            "--------------------------------\n",
            "Hello Harry\n",
            "Your average quiz score is 6.0\n",
            "--------------------------------\n",
            "Hello Hermione\n",
            "Your average quiz score is 9.666666666666666\n"
          ]
        }
      ]
    },
    {
      "cell_type": "code",
      "source": [
        "#Task 5\n",
        "class Student:\n",
        "  def __init__(self,name,id,dept = \"CSE\"):\n",
        "    self.name = name\n",
        "    self.dept = dept\n",
        "    self.id = id\n",
        "  def dailyEffort(self,hours):\n",
        "    self.effort = hours\n",
        "  def printDetails(self):\n",
        "    print(f'Name: {self.name}')\n",
        "    print(f'ID: {self.id}')\n",
        "    print(f'Department: {self.dept}')\n",
        "    print(f'Daily Effort: {self.effort} hour(s)')\n",
        "\n",
        "    if self.effort <= 2:\n",
        "      print('Suggestion: Should give more effort!')\n",
        "    elif self.effort <= 4:\n",
        "      print('Suggestion: Keep up the good work!')\n",
        "    else:\n",
        "      print('Suggestion: Excellent! Now motivate others.')\n",
        "\n",
        "#driver\n",
        "\n",
        "harry = Student('Harry Potter', 123)\n",
        "harry.dailyEffort(3)\n",
        "harry.printDetails()\n",
        "print('========================')\n",
        "john = Student(\"John Wick\", 456, \"BBA\")\n",
        "john.dailyEffort(2)\n",
        "john.printDetails()\n",
        "print('========================')\n",
        "naruto = Student(\"Naruto Uzumaki\", 777, \"Ninja\")\n",
        "naruto.dailyEffort(6)\n",
        "naruto.printDetails()\n"
      ],
      "metadata": {
        "id": "9HT5jGAps7ml",
        "colab": {
          "base_uri": "https://localhost:8080/"
        },
        "outputId": "1c7751b1-0a71-417b-8f26-bdcf625c9f6c"
      },
      "execution_count": null,
      "outputs": [
        {
          "output_type": "stream",
          "name": "stdout",
          "text": [
            "Name: Harry Potter\n",
            "ID: 123\n",
            "Department: CSE\n",
            "Daily Effort: 3 hour(s)\n",
            "Suggestion: Keep up the good work!\n",
            "========================\n",
            "Name: John Wick\n",
            "ID: 456\n",
            "Department: BBA\n",
            "Daily Effort: 2 hour(s)\n",
            "Suggestion: Should give more effort!\n",
            "========================\n",
            "Name: Naruto Uzumaki\n",
            "ID: 777\n",
            "Department: Ninja\n",
            "Daily Effort: 6 hour(s)\n",
            "Suggestion: Excellent! Now motivate others.\n"
          ]
        }
      ]
    },
    {
      "cell_type": "code",
      "source": [
        "#task 06\n",
        "class Patient:\n",
        "  def __init__(self,name,age):\n",
        "    self.name = name\n",
        "    self.age = age\n",
        "    self.list1 = []\n",
        "\n",
        "  def add_Symptom(self,*symp):\n",
        "    result = \"\"\n",
        "    for i in symp:\n",
        "      self.list1 += [i]\n",
        "    for i in self.list1:\n",
        "      result += i + \", \"\n",
        "    self.symp = result[:-2]\n",
        "\n",
        "  def printPatientDetail(self):\n",
        "    print(f'Name: {self.name}')\n",
        "    print(f'Age: {self.age}')\n",
        "    print(f'Symptoms: {self.symp}')\n",
        "\n",
        "#driver\n",
        "p1 = Patient('Thomas', 23)\n",
        "p1.add_Symptom('Headache')\n",
        "p2 = Patient('Carol', 20)\n",
        "p2.add_Symptom('Vomiting', 'Coughing')\n",
        "p3 = Patient('Mike', 25)\n",
        "p3.add_Symptom('Fever', 'Headache', 'Coughing')\n",
        "print(\"=========================\")\n",
        "p1.printPatientDetail()\n",
        "print(\"=========================\")\n",
        "p2.printPatientDetail()\n",
        "print(\"=========================\")\n",
        "p3.printPatientDetail()\n"
      ],
      "metadata": {
        "colab": {
          "base_uri": "https://localhost:8080/"
        },
        "id": "XQHTsS8mkLVA",
        "outputId": "c4943d63-9d65-466a-a1fb-e09568be75f1"
      },
      "execution_count": null,
      "outputs": [
        {
          "output_type": "stream",
          "name": "stdout",
          "text": [
            "=========================\n",
            "Name: Thomas\n",
            "Age: 23\n",
            "Symptoms: Headache\n",
            "=========================\n",
            "Name: Carol\n",
            "Age: 20\n",
            "Symptoms: Vomiting, Coughing\n",
            "=========================\n",
            "Name: Mike\n",
            "Age: 25\n",
            "Symptoms: Fever, Headache, Coughing\n"
          ]
        }
      ]
    },
    {
      "cell_type": "code",
      "source": [
        "#Task 07\n",
        "class Match:\n",
        "  def __init__(self,name):\n",
        "    print(\"5..4..3..2..1.. Play !!!\")\n",
        "    teams = name.split(\"-\")\n",
        "    self.batting = teams[0]\n",
        "    self.bowling = teams[1]\n",
        "    self.run = 0\n",
        "    self.over = 0\n",
        "    self.wicket = 0\n",
        "  def add_run(self,run):\n",
        "    self.run += run\n",
        "  def add_over(self,over):\n",
        "    self.over += over\n",
        "    if self.over > 5:\n",
        "      print(f\"Warning! Cannot add 5 over/s (5 over match)\")\n",
        "      self.over -= over\n",
        "\n",
        "  def add_wicket(self,wicket):\n",
        "    self.wicket += wicket\n",
        "\n",
        "  def print_scoreboard(self):\n",
        "    a = \"\"\n",
        "    a += f\"Batting Team: {self.batting}\\n\"\n",
        "    a += f\"Bowling Team: {self.bowling} \\n\"\n",
        "    a += f\"Total Runs: {self.run} Wickets: {self.wicket} Overs: {self.over}\"\n",
        "    return a\n",
        "\n",
        "\n",
        "\n",
        "\n",
        "match1 = Match(\"Rangpur Riders-Cumilla Victorians\")\n",
        "print(\"=========================\")\n",
        "match1.add_run(4)\n",
        "match1.add_run(6)\n",
        "match1.add_over(1)\n",
        "print(match1.print_scoreboard())\n",
        "print(\"=========================\")\n",
        "match1.add_over(5)\n",
        "print(\"=========================\")\n",
        "match1.add_wicket(1)\n",
        "print(match1.print_scoreboard())\n"
      ],
      "metadata": {
        "colab": {
          "base_uri": "https://localhost:8080/"
        },
        "id": "FpwA68JVlAla",
        "outputId": "154d26cc-ab84-4be7-f2fe-71a02435af71"
      },
      "execution_count": null,
      "outputs": [
        {
          "output_type": "stream",
          "name": "stdout",
          "text": [
            "5..4..3..2..1.. Play !!!\n",
            "=========================\n",
            "Batting Team: Rangpur Riders\n",
            "Bowling Team: Cumilla Victorians \n",
            "Total Runs: 10 Wickets: 0 Overs: 1\n",
            "=========================\n",
            "Warning! Cannot add 5 over/s (5 over match)\n",
            "=========================\n",
            "Batting Team: Rangpur Riders\n",
            "Bowling Team: Cumilla Victorians \n",
            "Total Runs: 10 Wickets: 1 Overs: 1\n"
          ]
        }
      ]
    },
    {
      "cell_type": "code",
      "source": [
        "#Task 08\n",
        "class ParcelKoro:\n",
        "\n",
        "    def __init__(self, name=\"No name set\", total_weight=0, location_fee=None):\n",
        "        self.name = name\n",
        "        self.product_weight = total_weight\n",
        "        self.location_fee = location_fee\n",
        "\n",
        "    def calculateFee(self, location=\"\"):\n",
        "        if location == \"\":\n",
        "            self.location_fee = 50\n",
        "        else:\n",
        "            self.location_fee = 100\n",
        "\n",
        "        if self.product_weight == 0:\n",
        "            self.total_fee = 0\n",
        "        else:\n",
        "            self.total_fee = self.location_fee + self.product_weight * 20\n",
        "\n",
        "    def printDetails(self):\n",
        "        print(f\"Customer Name: {self.name}\")\n",
        "        print(f\"Product Weight: {self.product_weight}\")\n",
        "        print(f\"Total fee: {self.total_fee}\")\n",
        "\n",
        "\n",
        "print(\"**********************\")\n",
        "p1 = ParcelKoro()\n",
        "p1.calculateFee()\n",
        "p1.printDetails()\n",
        "print(\"**********************\")\n",
        "p2 = ParcelKoro('Bob The Builder')\n",
        "p2.calculateFee()\n",
        "p2.printDetails()\n",
        "print(\"----------------------------\")\n",
        "p2.product_weight = 15\n",
        "p2.calculateFee()\n",
        "p2.printDetails()\n",
        "print(\"**********************\")\n",
        "p3 = ParcelKoro('Dora The Explorer', 10)\n",
        "p3.calculateFee('Dhanmondi')\n",
        "p3.printDetails()"
      ],
      "metadata": {
        "colab": {
          "base_uri": "https://localhost:8080/"
        },
        "id": "VrjFncxtuHpO",
        "outputId": "c52f1b81-10b6-421d-c38b-99725069dc4d"
      },
      "execution_count": null,
      "outputs": [
        {
          "output_type": "stream",
          "name": "stdout",
          "text": [
            "**********************\n",
            "Customer Name: No name set\n",
            "Product Weight: 0\n",
            "Total fee: 0\n",
            "**********************\n",
            "Customer Name: Bob The Builder\n",
            "Product Weight: 0\n",
            "Total fee: 0\n",
            "----------------------------\n",
            "Customer Name: Bob The Builder\n",
            "Product Weight: 15\n",
            "Total fee: 350\n",
            "**********************\n",
            "Customer Name: Dora The Explorer\n",
            "Product Weight: 10\n",
            "Total fee: 300\n"
          ]
        }
      ]
    },
    {
      "cell_type": "code",
      "source": [
        "#Task 9\n",
        "class Batsman:\n",
        "  def __init__(self, name=\"New Batsman\", run_scored=0, ball_faced=0):\n",
        "    self.name = name\n",
        "    self.run_scored = run_scored\n",
        "    self.ball_faced = ball_faced\n",
        "\n",
        "  def printCareerStatistics(self):\n",
        "    print(f\"Name: {self.name}\")\n",
        "    print(f\"Runs Scored: {self.run_scored}, Balls Faced: {self.ball_faced}\")\n",
        "\n",
        "  def battingStrikeRate(self):\n",
        "    if self.ball_faced == 0:\n",
        "      s_by_r = (self.run_scored / 1) * 100\n",
        "      return s_by_r\n",
        "    else:\n",
        "      s_by_r = (self.run_scored / self.ball_faced) * 100\n",
        "      return s_by_r\n",
        "\n",
        "  def setName(self, name):\n",
        "    self.name = name\n",
        "\n",
        "b1 = Batsman(run_scored=6101, ball_faced=7380)\n",
        "b1.printCareerStatistics()\n",
        "print(\"============================\")\n",
        "b2 = Batsman(name=\"Liton Das\", run_scored=678, ball_faced=773)\n",
        "b2.printCareerStatistics()\n",
        "print(\"----------------------------\")\n",
        "print(b2.battingStrikeRate())\n",
        "print(\"============================\")\n",
        "b1.setName(\"Shakib Al Hasan\")\n",
        "b1.printCareerStatistics()\n",
        "print(\"----------------------------\")\n",
        "print(b1.battingStrikeRate())"
      ],
      "metadata": {
        "id": "IycuO8jU8iVr",
        "outputId": "bd7ebd15-ea91-42e5-d5c4-e4f1880aab62",
        "colab": {
          "base_uri": "https://localhost:8080/"
        }
      },
      "execution_count": null,
      "outputs": [
        {
          "output_type": "stream",
          "name": "stdout",
          "text": [
            "Name: New Batsman\n",
            "Runs Scored: 6101, Balls Faced: 7380\n",
            "============================\n",
            "Name: Liton Das\n",
            "Runs Scored: 678, Balls Faced: 773\n",
            "----------------------------\n",
            "87.71021992238033\n",
            "============================\n",
            "Name: Shakib Al Hasan\n",
            "Runs Scored: 6101, Balls Faced: 7380\n",
            "----------------------------\n",
            "82.66937669376694\n"
          ]
        }
      ]
    },
    {
      "cell_type": "code",
      "source": [
        "#Task 09\n",
        "class Batsman:\n",
        "    def __init__(self, *tup):\n",
        "        self.name = \"New Batsman\"\n",
        "        if len(tup) == 3:\n",
        "            self.name = tup[0]\n",
        "            self.runs = tup[1]\n",
        "            self.balls = tup[2]\n",
        "        elif len(tup) == 2:\n",
        "            self.runs = tup[0]\n",
        "            self.balls = tup[1]\n",
        "\n",
        "    def setName(self, name):\n",
        "        self.name = name\n",
        "\n",
        "    def printCareerStatistics(self):\n",
        "        print(f\"Name: {self.name}\")\n",
        "        print(f\"Runs Scored: {self.runs} , Balls Faced: {self.balls}\")\n",
        "\n",
        "\n",
        "    def battingStrikeRate(self):\n",
        "        self.sr = self.runs / self.balls * 100\n",
        "        return self.sr\n",
        "\n",
        "# Write your code here\n",
        "b1 = Batsman(6101, 7380)\n",
        "b1.printCareerStatistics()\n",
        "print(\"============================\")\n",
        "b2 = Batsman(\"Liton Das\", 678, 773)\n",
        "b2.printCareerStatistics()\n",
        "print(\"----------------------------\")\n",
        "print(b2.battingStrikeRate())\n",
        "print(\"============================\")\n",
        "b1.setName(\"Shakib Al Hasan\")\n",
        "b1.printCareerStatistics()\n",
        "print(\"----------------------------\")\n",
        "print(b1.battingStrikeRate())\n",
        "\n"
      ],
      "metadata": {
        "colab": {
          "base_uri": "https://localhost:8080/"
        },
        "id": "wqVayHD79mpi",
        "outputId": "f7e587e7-1329-491d-8387-5a09b59fdb82"
      },
      "execution_count": null,
      "outputs": [
        {
          "output_type": "stream",
          "name": "stdout",
          "text": [
            "Name: New Batsman\n",
            "Runs Scored: 6101 , Balls Faced: 7380\n",
            "============================\n",
            "Name: Liton Das\n",
            "Runs Scored: 678 , Balls Faced: 773\n",
            "----------------------------\n",
            "87.71021992238033\n",
            "============================\n",
            "Name: Shakib Al Hasan\n",
            "Runs Scored: 6101 , Balls Faced: 7380\n",
            "----------------------------\n",
            "82.66937669376694\n"
          ]
        }
      ]
    },
    {
      "cell_type": "code",
      "source": [
        "#Task 10\n",
        "class EPL_Team:\n",
        "    def __init__(self, name, song='No Slogan'):\n",
        "        self.name = name\n",
        "        self.song = song\n",
        "        self.total_title = 0\n",
        "\n",
        "    def showClubInfo(self):\n",
        "        return f\"Name: {self.name} \\nSong: {self.song}\\nTotal No of title: {self.total_title}\"\n",
        "\n",
        "    def increaseTitle(self):\n",
        "        self.total_title += 1\n",
        "\n",
        "    def changeSong(self, new_song):\n",
        "        self.song = new_song\n",
        "\n",
        "\n",
        "manu = EPL_Team('Manchester United', 'Glory Glory Man United')\n",
        "chelsea = EPL_Team('Chelsea')\n",
        "print('===================')\n",
        "print(manu.showClubInfo())\n",
        "print('##################')\n",
        "manu.increaseTitle()\n",
        "print(manu.showClubInfo())\n",
        "print('===================')\n",
        "print(chelsea.showClubInfo())\n",
        "chelsea.changeSong('Keep the blue flag flying high')\n",
        "print(chelsea.showClubInfo())"
      ],
      "metadata": {
        "id": "GcA_vbSw0R3N",
        "colab": {
          "base_uri": "https://localhost:8080/"
        },
        "outputId": "98fa428f-7ef2-4af3-c8b9-5605b1c8f292"
      },
      "execution_count": null,
      "outputs": [
        {
          "output_type": "stream",
          "name": "stdout",
          "text": [
            "===================\n",
            "Name: Manchester United \n",
            "Song: Glory Glory Man United\n",
            "Total No of title: 0\n",
            "##################\n",
            "Name: Manchester United \n",
            "Song: Glory Glory Man United\n",
            "Total No of title: 1\n",
            "===================\n",
            "Name: Chelsea \n",
            "Song: No Slogan\n",
            "Total No of title: 0\n",
            "Name: Chelsea \n",
            "Song: Keep the blue flag flying high\n",
            "Total No of title: 0\n"
          ]
        }
      ]
    },
    {
      "cell_type": "code",
      "source": [
        "#Task 11\n",
        "class Author:\n",
        "    def __init__(self, name=\"Default\", *books):\n",
        "        self.name = name\n",
        "        self.books = list(books)\n",
        "\n",
        "    def addBooks(self, *books):\n",
        "        for i in books:\n",
        "          self.books += [i]\n",
        "\n",
        "    def changeName(self, name):\n",
        "        self.name = name\n",
        "\n",
        "    def printDetails(self):\n",
        "        print(f\"Author Name:  {self.name}\")\n",
        "        print(\"--------\")\n",
        "        print(\"List of Books:\")\n",
        "        for book in self.books:\n",
        "            print(book)\n",
        "\n",
        "auth1 = Author('Humayun Ahmed')\n",
        "auth1.addBooks('Deyal', 'Megher Opor Bari')\n",
        "auth1.printDetails()\n",
        "print(\"===================\")\n",
        "auth2 = Author()\n",
        "print(auth2.name)\n",
        "auth2.changeName('Mario Puzo')\n",
        "auth2.addBooks('The Godfather', 'Omerta', 'The Sicilian')\n",
        "print(\"===================\")\n",
        "auth2.printDetails()\n",
        "print(\"===================\")\n",
        "auth3 = Author('Paolo Coelho', 'The Alchemist', 'The Fifth Mountain')\n",
        "auth3.printDetails()\n"
      ],
      "metadata": {
        "colab": {
          "base_uri": "https://localhost:8080/"
        },
        "id": "Fiju-ig0dRQb",
        "outputId": "3e77e5ec-fb8d-4d95-ab41-f02dadaa2271"
      },
      "execution_count": null,
      "outputs": [
        {
          "output_type": "stream",
          "name": "stdout",
          "text": [
            "Author Name:  Humayun Ahmed\n",
            "--------\n",
            "List of Books:\n",
            "Deyal\n",
            "Megher Opor Bari\n",
            "===================\n",
            "Default\n",
            "===================\n",
            "Author Name:  Mario Puzo\n",
            "--------\n",
            "List of Books:\n",
            "The Godfather\n",
            "Omerta\n",
            "The Sicilian\n",
            "===================\n",
            "Author Name:  Paolo Coelho\n",
            "--------\n",
            "List of Books:\n",
            "The Alchemist\n",
            "The Fifth Mountain\n"
          ]
        }
      ]
    },
    {
      "cell_type": "code",
      "source": [
        "#task 12\n",
        "class TaxiLagbe:\n",
        "    def __init__(self,number,area):\n",
        "        self.number = number\n",
        "        self.area = area\n",
        "        self.list1 = []\n",
        "        self.fee = 0\n",
        "    def addPassenger(self, *passengers):\n",
        "        new_list = []\n",
        "        if len(self.list1) + len(passengers) > 4:\n",
        "            print(\"Taxi Full! No more passengers can be added.\")\n",
        "        else:\n",
        "\n",
        "            for i in passengers:\n",
        "                name, fee = i.split('_')\n",
        "                fee = int(fee)\n",
        "                self.fee += fee\n",
        "                self.list1 += [name]\n",
        "                new_list += [name]\n",
        "\n",
        "            for i in new_list:\n",
        "                print(f\"Dear {i}! Welcome to TaxiLagbe.\")\n",
        "\n",
        "    def printDetails(self):\n",
        "        print(f\"Trip info for Taxi number: {self.number}\")\n",
        "        print(f\"This taxi can cover only {self.area} area.\")\n",
        "        print(f\"Total passengers: {len(self.list1)}\")\n",
        "        print(f\"Passenger lists:\")\n",
        "        a = \"\"\n",
        "        for i in self.list1:\n",
        "            a += i + \", \"\n",
        "        a = a[0:-2]\n",
        "        print(a)\n",
        "        print(f\"Total collected fare: {self.fee} Taka\")\n",
        "\n",
        "# Write your code here\n",
        "# Do not change the following lines of code.\n",
        "\n",
        "taxi1 = TaxiLagbe('1010-01', 'Dhaka')\n",
        "print('-------------------------------')\n",
        "taxi1.addPassenger('Walker_100', 'Wood_200')\n",
        "taxi1.addPassenger('Matt_100')\n",
        "taxi1.addPassenger('Wilson_105')\n",
        "print('-------------------------------')\n",
        "taxi1.printDetails()\n",
        "print('-------------------------------')\n",
        "taxi1.addPassenger('Karen_200')\n",
        "print('-------------------------------')\n",
        "taxi1.printDetails()\n",
        "print('-------------------------------')\n",
        "taxi2 = TaxiLagbe('1010-02', 'Khulna')\n",
        "taxi2.addPassenger('Ronald_115')\n",
        "taxi2.addPassenger('Parker_215')\n",
        "print('-------------------------------')\n",
        "taxi2.printDetails()\n",
        "\n",
        "\n"
      ],
      "metadata": {
        "colab": {
          "base_uri": "https://localhost:8080/"
        },
        "id": "wMQrv8qYXQ39",
        "outputId": "77e6d596-1c71-4fc2-f591-6a0febf00a3b"
      },
      "execution_count": null,
      "outputs": [
        {
          "output_type": "stream",
          "name": "stdout",
          "text": [
            "-------------------------------\n",
            "Dear Walker! Welcome to TaxiLagbe.\n",
            "Dear Wood! Welcome to TaxiLagbe.\n",
            "Dear Matt! Welcome to TaxiLagbe.\n",
            "Dear Wilson! Welcome to TaxiLagbe.\n",
            "-------------------------------\n",
            "Trip info for Taxi number: 1010-01\n",
            "This taxi can cover only Dhaka area.\n",
            "Total passengers: 4\n",
            "Passenger lists:\n",
            "Walker, Wood, Matt, Wilson\n",
            "Total collected fare: 505 Taka\n",
            "-------------------------------\n",
            "Taxi Full! No more passengers can be added.\n",
            "-------------------------------\n",
            "Trip info for Taxi number: 1010-01\n",
            "This taxi can cover only Dhaka area.\n",
            "Total passengers: 4\n",
            "Passenger lists:\n",
            "Walker, Wood, Matt, Wilson\n",
            "Total collected fare: 505 Taka\n",
            "-------------------------------\n",
            "Dear Ronald! Welcome to TaxiLagbe.\n",
            "Dear Parker! Welcome to TaxiLagbe.\n",
            "-------------------------------\n",
            "Trip info for Taxi number: 1010-02\n",
            "This taxi can cover only Khulna area.\n",
            "Total passengers: 2\n",
            "Passenger lists:\n",
            "Ronald, Parker\n",
            "Total collected fare: 330 Taka\n"
          ]
        }
      ]
    },
    {
      "cell_type": "code",
      "source": [
        "#Task 13\n",
        "class Account:\n",
        "    def __init__(self, name=\"Default account\", balance=0.0):\n",
        "        self.name = name\n",
        "        self.balance = float(balance)\n",
        "\n",
        "    def withdraw(self, amount):\n",
        "        if self.balance - amount <= 0:\n",
        "            print(\"Sorry, Withdraw unsuccessful! The account balance after deducting withdraw amount is equal to or less than minimum.\")\n",
        "\n",
        "        else:\n",
        "            self.balance -= amount\n",
        "\n",
        "            print(f\"Withdraw successful! New balance is: {self.balance}\")\n",
        "\n",
        "    def details(self):\n",
        "        a = f\"{self.name}\\n{self.balance}\"\n",
        "        return a\n",
        "\n",
        "# Write your code here\n",
        "\n",
        "a1 = Account()\n",
        "print(a1.details())\n",
        "print(\"------------------------\")\n",
        "a1.name = \"Oliver\"\n",
        "a1.balance = 10000.0\n",
        "print(a1.details())\n",
        "print(\"------------------------\")\n",
        "a2 = Account(\"Liam\")\n",
        "print(a2.details())\n",
        "print(\"------------------------\")\n",
        "a3 = Account(\"Noah\",400)\n",
        "print(a3.details())\n",
        "print(\"------------------------\")\n",
        "a3.withdraw(6930)\n",
        "print(\"------------------------\")\n",
        "a2.withdraw(600)\n",
        "print(\"------------------------\")\n",
        "a1.withdraw(6929)"
      ],
      "metadata": {
        "colab": {
          "base_uri": "https://localhost:8080/"
        },
        "id": "1QMb0yuhjdO1",
        "outputId": "615d4623-15a7-4836-aa49-3c655c19d528"
      },
      "execution_count": null,
      "outputs": [
        {
          "output_type": "stream",
          "name": "stdout",
          "text": [
            "Default account\n",
            "0.0\n",
            "------------------------\n",
            "Oliver\n",
            "10000.0\n",
            "------------------------\n",
            "Liam\n",
            "0.0\n",
            "------------------------\n",
            "Noah\n",
            "400.0\n",
            "------------------------\n",
            "Sorry, Withdraw unsuccessful! The account balance after deducting withdraw amount is equal to or less than minimum.\n",
            "------------------------\n",
            "Sorry, Withdraw unsuccessful! The account balance after deducting withdraw amount is equal to or less than minimum.\n",
            "------------------------\n",
            "Withdraw successful! New balance is: 3071.0\n"
          ]
        }
      ]
    },
    {
      "cell_type": "code",
      "source": [
        "#Task 14\n",
        "class StudentDatabase:\n",
        "    def __init__(self, name, id):\n",
        "        self.name = name\n",
        "        self.id = id\n",
        "        self.grades = {}\n",
        "    def calculateGPA(self, c_and_g, sem):\n",
        "        courses = []\n",
        "        total_grade = 0\n",
        "        for i in c_and_g:\n",
        "            temp = i.split(\": \")\n",
        "            course, grade = temp\n",
        "            total_grade += float(grade)\n",
        "            courses += [course]\n",
        "\n",
        "        self.courses = tuple(courses)\n",
        "        cgpa = total_grade / len(c_and_g)\n",
        "        self.grades[sem] = {self.courses: round(cgpa, 2)}\n",
        "\n",
        "    def printDetails(self):\n",
        "        print(f\"Name: {self.name}\\nID: {self.id}\")\n",
        "        for i, j in self.grades.items():\n",
        "            print(f\"Courses taken in {i}:\")\n",
        "            for a, b in j.items():\n",
        "                for courses in a:\n",
        "                    print(courses)\n",
        "                print(f\"GPA: {b}\")\n",
        "\n",
        "\n",
        "# Write your code here\n",
        "\n",
        "# Do not change the following lines of code.\n",
        "\n",
        "s1 = StudentDatabase('Pietro', '10101222')\n",
        "s1.calculateGPA(['CSE230: 4.0', 'CSE220: 4.0', 'MAT110: 4.0'], 'Summer2020')\n",
        "s1.calculateGPA(['CSE250: 3.7', 'CSE330: 4.0'], 'Summer2021')\n",
        "print(f'Grades for {s1.name}\\n{s1.grades}')\n",
        "print('------------------------------------------------------')\n",
        "s1.printDetails()\n",
        "s2 = StudentDatabase('Wanda', '10103332')\n",
        "s2.calculateGPA(['CSE111: 3.7', 'CSE260: 3.7', 'ENG101: 4.0'], 'Summer2022')\n",
        "print('------------------------------------------------------')\n",
        "print(f'Grades for {s2.name}\\n{s2.grades}')\n",
        "print('------------------------------------------------------')\n",
        "s2.printDetails()\n"
      ],
      "metadata": {
        "colab": {
          "base_uri": "https://localhost:8080/"
        },
        "id": "JowYYf2njvWX",
        "outputId": "e9fad429-380f-44c2-ea00-3900a70ceba8"
      },
      "execution_count": null,
      "outputs": [
        {
          "output_type": "stream",
          "name": "stdout",
          "text": [
            "Grades for Pietro\n",
            "{'Summer2020': {('CSE230', 'CSE220', 'MAT110'): 4.0}, 'Summer2021': {('CSE250', 'CSE330'): 3.85}}\n",
            "------------------------------------------------------\n",
            "Name: Pietro\n",
            "ID: 10101222\n",
            "Courses taken in Summer2020:\n",
            "CSE230\n",
            "CSE220\n",
            "MAT110\n",
            "GPA: 4.0\n",
            "Courses taken in Summer2021:\n",
            "CSE250\n",
            "CSE330\n",
            "GPA: 3.85\n",
            "------------------------------------------------------\n",
            "Grades for Wanda\n",
            "{'Summer2022': {('CSE111', 'CSE260', 'ENG101'): 3.8}}\n",
            "------------------------------------------------------\n",
            "Name: Wanda\n",
            "ID: 10103332\n",
            "Courses taken in Summer2022:\n",
            "CSE111\n",
            "CSE260\n",
            "ENG101\n",
            "GPA: 3.8\n"
          ]
        }
      ]
    },
    {
      "cell_type": "code",
      "source": [
        "#Task20\n",
        "class Student:\n",
        "  def __init__(self,name=None,dept=None):\n",
        "    self.name = name\n",
        "    self.dept = dept\n",
        "    self.course = []\n",
        "\n",
        "    if self.name == None and self.dept == None:\n",
        "      print(\"Student name and department need to be set\")\n",
        "    elif self.dept == None:\n",
        "      print(f\"Department for {self.name} needs to be set\")\n",
        "    else:\n",
        "      print(f\"{self.name} is from {self.dept} department\")\n",
        "\n",
        "  def update_name(self,name):\n",
        "    self.name = name\n",
        "\n",
        "  def update_department(self,dept):\n",
        "    self.dept = dept\n",
        "\n",
        "  def enroll(self,*courses):\n",
        "    for i in courses:\n",
        "      self.course += [i]\n",
        "\n",
        "  def printDetail(self):\n",
        "    print(f\"Name: {self.name}\")\n",
        "    print(f\"Department : {self.dept}\")\n",
        "    print(f\"{self.name} enroled in {len(self.course)} course(s):\")\n",
        "    result = \"\"\n",
        "    for i in self.course:\n",
        "      result += i + \", \"\n",
        "    self.result = result[:-2]\n",
        "    print(self.result)\n",
        "\n",
        "\n",
        "s1 = Student()\n",
        "print(\"=========================\")\n",
        "s2 = Student(\"Carol\")\n",
        "print(\"=========================\")\n",
        "s3 = Student(\"Jon\", \"EEE\")\n",
        "print(\"=========================\")\n",
        "s1.update_name(\"Bob\")\n",
        "s1.update_department(\"CSE\")\n",
        "s2.update_department(\"BBA\")\n",
        "s1.enroll(\"CSE110\", \"MAT110\", \"ENG091\")\n",
        "s2.enroll(\"BUS101\")\n",
        "s3.enroll(\"MAT110\", \"PHY111\")\n",
        "print(\"###########################\")\n",
        "s1.printDetail()\n",
        "print(\"=========================\")\n",
        "s2.printDetail()\n",
        "print(\"=========================\")\n",
        "s3.printDetail()"
      ],
      "metadata": {
        "colab": {
          "base_uri": "https://localhost:8080/"
        },
        "id": "6iQoPxlr3Tsw",
        "outputId": "321a7a03-8987-4f29-c2ce-24cc379c87f8"
      },
      "execution_count": null,
      "outputs": [
        {
          "output_type": "stream",
          "name": "stdout",
          "text": [
            "Student name and department need to be set\n",
            "=========================\n",
            "Department for Carol needs to be set\n",
            "=========================\n",
            "Jon is from EEE department\n",
            "=========================\n",
            "###########################\n",
            "Name: Bob\n",
            "Department : CSE\n",
            "Bob enroled in 3 course(s):\n",
            "CSE110, MAT110, ENG091\n",
            "=========================\n",
            "Name: Carol\n",
            "Department : BBA\n",
            "Carol enroled in 1 course(s):\n",
            "BUS101\n",
            "=========================\n",
            "Name: Jon\n",
            "Department : EEE\n",
            "Jon enroled in 2 course(s):\n",
            "MAT110, PHY111\n"
          ]
        }
      ]
    },
    {
      "cell_type": "markdown",
      "source": [
        "TRACING\n"
      ],
      "metadata": {
        "id": "sIB8SHzS3t6l"
      }
    },
    {
      "cell_type": "code",
      "source": [
        "#Task 15\n",
        "class FinalT6A:\n",
        "    def __init__(self, x, p):\n",
        "        self.temp, self.sum, self.y = 4, 0, 1\n",
        "        self.temp += 1\n",
        "        self.y = self.temp - p\n",
        "        self.sum = self.temp + x\n",
        "        print(x, self.y, self.sum)\n",
        "    def methodA(self):\n",
        "        x = 0\n",
        "        y = 0\n",
        "        y = y + self.y\n",
        "        x = self.y + 2 + self.temp\n",
        "        self.sum = x + y + self.methodB(self.temp, y)\n",
        "        print(x, y, self.sum)\n",
        "    def methodB(self, temp, n):\n",
        "        x = 0\n",
        "        temp += 1\n",
        "        self.y = self.y + temp\n",
        "        x = x + 3 + n\n",
        "        self.sum = self.sum + x + self.y\n",
        "        print(x, self.y, self.sum)\n",
        "        return self.sum\n",
        "q1 = FinalT6A(2,1)\n",
        "q1.methodA()\n",
        "q1.methodA()\n",
        "\n"
      ],
      "metadata": {
        "colab": {
          "base_uri": "https://localhost:8080/"
        },
        "id": "0qd2SlM4k-Lq",
        "outputId": "c27a43f0-4065-49ae-d0dc-b7d98cc8a320"
      },
      "execution_count": null,
      "outputs": [
        {
          "output_type": "stream",
          "name": "stdout",
          "text": [
            "2 4 7\n",
            "7 10 24\n",
            "11 4 39\n",
            "13 16 68\n",
            "17 10 95\n"
          ]
        }
      ]
    },
    {
      "cell_type": "code",
      "source": [
        "#Task 16\n",
        "class Quiz3A:\n",
        "    def __init__(self, k = None):\n",
        "        self.temp, self.sum, self.y = 4, 0, 0\n",
        "        if k != None:\n",
        "            self.temp += 1\n",
        "            self.temp = self.temp\n",
        "            self.sum = self.temp + k\n",
        "            self.y = self.sum - 1\n",
        "        else:\n",
        "            self.y = self.temp - 1\n",
        "            self.sum = self.temp + 1\n",
        "            self.temp += 2\n",
        "    def methodB(self, m, n):\n",
        "        x = 0\n",
        "        self.temp += 1\n",
        "        self.y = self.y + m + (self.temp)\n",
        "        x = x + 2 + n\n",
        "        self.sum = self.sum + x + self.y\n",
        "        print(x, self.y, self.sum)\n",
        "        return self.sum\n",
        "\n",
        "a1 = Quiz3A()\n",
        "a1.methodB(1,2)\n",
        "a2 = Quiz3A(3)\n",
        "a2.methodB(2,4)\n",
        "a1.methodB(2,1)\n",
        "a2.methodB(1,3)\n"
      ],
      "metadata": {
        "colab": {
          "base_uri": "https://localhost:8080/"
        },
        "id": "XjddoXWPlcnO",
        "outputId": "65c6e430-ae7e-4c21-91fb-121abb203551"
      },
      "execution_count": null,
      "outputs": [
        {
          "output_type": "stream",
          "name": "stdout",
          "text": [
            "4 11 20\n",
            "6 15 29\n",
            "3 21 44\n",
            "5 23 57\n"
          ]
        },
        {
          "output_type": "execute_result",
          "data": {
            "text/plain": [
              "57"
            ]
          },
          "metadata": {},
          "execution_count": 10
        }
      ]
    },
    {
      "cell_type": "code",
      "source": [
        "#Task 17\n",
        "class Test5:\n",
        "  def __init__(self):\n",
        "      self.sum = 0\n",
        "      self.y = 0\n",
        "  def methodA(self):\n",
        "      x=y=k=0\n",
        "      msg = [5]\n",
        "      while (k < 2):\n",
        "          y += msg[0]\n",
        "          x = y + self.methodB(msg, k)\n",
        "          self.sum = x + y + msg[0]\n",
        "          print(x ,\" \" , y, \" \" , self.sum)\n",
        "          k+=1\n",
        "  def methodB(self, mg2, mg1):\n",
        "        x = 0\n",
        "        self.y += mg2[0]\n",
        "        x = x + 3 + mg1\n",
        "        self.sum += x + self.y\n",
        "        mg2[0] = self.y + mg1\n",
        "        mg1 += x + 2\n",
        "        print(x , \" \" ,self.y, \" \" , self.sum)\n",
        "        return mg1\n",
        "\n",
        "t1 = Test5()\n",
        "t1.methodA()\n",
        "t1.methodA()\n",
        "t1.methodA()"
      ],
      "metadata": {
        "colab": {
          "base_uri": "https://localhost:8080/"
        },
        "id": "XwqcUtz0lkX8",
        "outputId": "2e34adfb-1757-455e-bf91-02ee7ee05dae"
      },
      "execution_count": null,
      "outputs": [
        {
          "output_type": "stream",
          "name": "stdout",
          "text": [
            "3   5   8\n",
            "10   5   20\n",
            "4   10   34\n",
            "17   10   38\n",
            "3   15   56\n",
            "10   5   30\n",
            "4   30   64\n",
            "27   20   78\n",
            "3   35   116\n",
            "10   5   50\n",
            "4   70   124\n",
            "47   40   158\n"
          ]
        }
      ]
    },
    {
      "cell_type": "code",
      "source": [
        "#Task 18\n",
        "class Test4:\n",
        "    def __init__(self):\n",
        "        self.sum, self.y = 0, 0\n",
        "    def methodA(self):\n",
        "        x, y = 0, 0\n",
        "        msg = [0]\n",
        "        msg[0] = 5\n",
        "        y = y + self.methodB(msg[0])\n",
        "        x = y + self.methodB(msg, msg[0])\n",
        "        self.sum = x + y + msg[0]\n",
        "        print(x, y, self.sum)\n",
        "    def methodB(self, *args):\n",
        "        if len(args) == 1:\n",
        "            mg1 = args[0]\n",
        "            x, y = 0, 0\n",
        "            y = y + mg1\n",
        "            x = x + 33 + mg1\n",
        "            self.sum = self.sum + x + y\n",
        "            self.y = mg1 + x + 2\n",
        "            print(x, y, self.sum)\n",
        "            return y\n",
        "        else:\n",
        "            mg2, mg1 = args\n",
        "            x = 0\n",
        "            self.y = self.y + mg2[0]\n",
        "            x = x + 33 + mg1\n",
        "            self.sum = self.sum + x + self.y\n",
        "            mg2[0] = self.y + mg1\n",
        "            mg1 = mg1 + x + 2\n",
        "            print(x, self.y, self.sum)\n",
        "            return self.sum\n",
        "\n",
        "t3 = Test4()\n",
        "t3.methodA()\n",
        "t3.methodA()\n",
        "t3.methodA()\n",
        "t3.methodA()\n"
      ],
      "metadata": {
        "colab": {
          "base_uri": "https://localhost:8080/"
        },
        "id": "RVAUUyM-ltxg",
        "outputId": "8fc9bb6d-0ad4-4ea5-e5db-228a0cd0e58b"
      },
      "execution_count": null,
      "outputs": [
        {
          "output_type": "stream",
          "name": "stdout",
          "text": [
            "38 5 43\n",
            "38 50 131\n",
            "136 5 196\n",
            "38 5 239\n",
            "38 50 327\n",
            "332 5 392\n",
            "38 5 435\n",
            "38 50 523\n",
            "528 5 588\n",
            "38 5 631\n",
            "38 50 719\n",
            "724 5 784\n"
          ]
        }
      ]
    },
    {
      "cell_type": "code",
      "source": [
        "#Task 19\n",
        "class msgClass:\n",
        "    def __init__(self):\n",
        "        self.content = 0\n",
        "class Q5:\n",
        "    def __init__(self):\n",
        "        self.sum = 1\n",
        "        self.x = 2\n",
        "        self.y = 3\n",
        "    def methodA(self):\n",
        "        x, y = 1, 1\n",
        "        msg = []\n",
        "        myMsg = msgClass()\n",
        "        myMsg.content = self.x\n",
        "        msg.append(myMsg)\n",
        "        msg[0].content = self.y + myMsg.content\n",
        "        self.y = self.y + self.methodB(msg[0])\n",
        "        y = self.methodB(msg[0]) + self.y\n",
        "        x = y + self.methodB(msg[0], msg)\n",
        "        self.sum = x + y + msg[0].content\n",
        "        print(x,\" \", y,\" \", self.sum)\n",
        "    def methodB(self, mg1, mg2 = None):\n",
        "        if mg2 == None:\n",
        "            x, y = 5, 6\n",
        "            y = self.sum + mg1.content\n",
        "            self.y = y + mg1.content\n",
        "            x = self.x + 7 +mg1.content\n",
        "            self.sum = self.sum + x + y\n",
        "            self.x = mg1.content + x +8\n",
        "            print(x, \" \", y,\" \", self.sum)\n",
        "            return y\n",
        "        else:\n",
        "            x = 1\n",
        "            self.y += mg2[0].content\n",
        "            mg2[0].content = self.y + mg1.content\n",
        "            x = x + 4 + mg1.content\n",
        "            self.sum += x + self.y\n",
        "            mg1.content = self.sum - mg2[0].content\n",
        "            print(self.x, \" \",self.y,\" \", self.sum)\n",
        "            return self.sum\n",
        "\n",
        "q = Q5()\n",
        "q.methodA()\n"
      ],
      "metadata": {
        "colab": {
          "base_uri": "https://localhost:8080/"
        },
        "id": "_sX42UGBj9MY",
        "outputId": "a22c067b-c541-4bf8-9b2b-f1c20cf529ca"
      },
      "execution_count": null,
      "outputs": [
        {
          "output_type": "stream",
          "name": "stdout",
          "text": [
            "14   6   21\n",
            "39   26   86\n",
            "52   36   168\n",
            "225   57   409\n"
          ]
        }
      ]
    }
  ]
}