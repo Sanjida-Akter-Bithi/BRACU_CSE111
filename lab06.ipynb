{
  "nbformat": 4,
  "nbformat_minor": 0,
  "metadata": {
    "colab": {
      "provenance": [],
      "authorship_tag": "ABX9TyMmt+9i2tPh/fVdk2fJoJMI",
      "include_colab_link": true
    },
    "kernelspec": {
      "name": "python3",
      "display_name": "Python 3"
    },
    "language_info": {
      "name": "python"
    }
  },
  "cells": [
    {
      "cell_type": "markdown",
      "metadata": {
        "id": "view-in-github",
        "colab_type": "text"
      },
      "source": [
        "<a href=\"https://colab.research.google.com/github/Sanjida-Akter-Bithi/BRACU_CSE111/blob/main/lab06.ipynb\" target=\"_parent\"><img src=\"https://colab.research.google.com/assets/colab-badge.svg\" alt=\"Open In Colab\"/></a>"
      ]
    },
    {
      "cell_type": "code",
      "execution_count": null,
      "metadata": {
        "colab": {
          "base_uri": "https://localhost:8080/"
        },
        "id": "DC1moQpjvpMT",
        "outputId": "a5c05cd9-8f9f-481f-d216-cd57ee392c96"
      },
      "outputs": [
        {
          "output_type": "stream",
          "name": "stdout",
          "text": [
            "ID: 1 \n",
            "Name: Samin \n",
            "Department:CSE\n",
            "Age: 21\n",
            "CGPA: 3.91\n",
            "-----------------------\n",
            "ID: 2 \n",
            "Name: Fahim \n",
            "Department:ECE\n",
            "Age: 21\n",
            "CGPA: 3.85\n",
            "-----------------------\n",
            "ID: 3 \n",
            "Name: Tahura \n",
            "Department:EEE\n",
            "Age: 22\n",
            "CGPA: 3.01\n",
            "-----------------------\n",
            "ID: 4 \n",
            "Name: Sumaiya \n",
            "Department:BBA\n",
            "Age: 23\n",
            "CGPA: 3.96\n"
          ]
        }
      ],
      "source": [
        "#Task 01\n",
        "class Student:\n",
        "  count=0\n",
        "  def __init__(self,name,department,age,cgpa):\n",
        "    self.name=name\n",
        "    self.department=department\n",
        "    self.age=age\n",
        "    self.cgpa=cgpa\n",
        "    Student.count+=1\n",
        "  def showDetails(self):\n",
        "    print(f\"ID: {Student.count} \")\n",
        "    print(f\"Name: {self.name} \")\n",
        "    print(f\"Department:{self.department}\")\n",
        "    print(f\"Age: {self.age}\")\n",
        "    print(f\"CGPA: {self.cgpa}\")\n",
        "\n",
        "  @classmethod\n",
        "  def from_String(cls,s):\n",
        "    l=s.split(\"-\")\n",
        "    name=l[0]\n",
        "    department=l[1]\n",
        "    age=l[2]\n",
        "    cgpa=l[3]\n",
        "    obj=cls(name,department,age,cgpa)\n",
        "    return obj\n",
        "\n",
        "s1 = Student(\"Samin\", \"CSE\", 21, 3.91)\n",
        "s1.showDetails()\n",
        "print(\"-----------------------\")\n",
        "s2 = Student(\"Fahim\", \"ECE\", 21, 3.85)\n",
        "s2.showDetails()\n",
        "print(\"-----------------------\")\n",
        "s3 = Student(\"Tahura\", \"EEE\", 22, 3.01)\n",
        "s3.showDetails()\n",
        "print(\"-----------------------\")\n",
        "s4 = Student.from_String(\"Sumaiya-BBA-23-3.96\")\n",
        "s4.showDetails()\n",
        "\n",
        "\n"
      ]
    },
    {
      "cell_type": "code",
      "source": [
        "#Task 2\n",
        "class Assassin:\n",
        "  count=0\n",
        "  def __init__ (self,name,success):\n",
        "    self.name=name\n",
        "    self.success=success\n",
        "    Assassin.count+=1\n",
        "\n",
        "  def printDetails(self):\n",
        "    print(f\"Name: {self.name}\")\n",
        "    print(f\"Success rate: {self.success} %\")\n",
        "    print(f\"Total number of Assassin: {Assassin.count}\")\n",
        "\n",
        "  @classmethod\n",
        "  def failureRate(cls,name,dmg):\n",
        "    name=name\n",
        "    dmg=dmg\n",
        "    success=100-dmg\n",
        "    obj=cls(name,success)\n",
        "    return obj\n",
        "\n",
        "  @classmethod\n",
        "  def failurePercentage(cls,name,f_p):\n",
        "    name=name\n",
        "    failure_percentage=f_p\n",
        "    a=f_p[:-1]\n",
        "    b=int(a)\n",
        "    success=100-b\n",
        "    obj=cls(name,success)\n",
        "    return obj\n",
        "\n",
        "\n",
        "\n",
        "john_wick = Assassin('John Wick', 100)\n",
        "john_wick.printDetails()\n",
        "print('================================')\n",
        "nagisa = Assassin.failureRate(\"Nagisa\", 20)\n",
        "nagisa.printDetails()\n",
        "print('================================')\n",
        "akabane = Assassin.failurePercentage(\"Akabane\", \"10%\")\n",
        "akabane.printDetails()\n",
        "\n",
        "\n"
      ],
      "metadata": {
        "colab": {
          "base_uri": "https://localhost:8080/"
        },
        "id": "ikvXD8HZ6Xlu",
        "outputId": "f015c242-c63e-40d5-ef4e-1ccf3ce39de8"
      },
      "execution_count": null,
      "outputs": [
        {
          "output_type": "stream",
          "name": "stdout",
          "text": [
            "Name: John Wick\n",
            "Success rate: 100 %\n",
            "Total number of Assassin: 1\n",
            "================================\n",
            "Name: Nagisa\n",
            "Success rate: 80 %\n",
            "Total number of Assassin: 2\n",
            "================================\n",
            "Name: Akabane\n",
            "Success rate: 90 %\n",
            "Total number of Assassin: 3\n"
          ]
        }
      ]
    },
    {
      "cell_type": "code",
      "source": [
        "#Task 3\n",
        "class Passenger:\n",
        "  count=0\n",
        "  def __init__(self,name):\n",
        "    self.name=name\n",
        "    self.bus_fare=450\n",
        "    Passenger.count+=1\n",
        "\n",
        "  def set_bag_weight(self,weight):\n",
        "    self.weight=weight\n",
        "    if self.weight>=21 and self.weight<=50:\n",
        "      self.bus_fare+=50\n",
        "    elif self.weight>50:\n",
        "      self.bus_fare+=100\n",
        "\n",
        "  def printDetail(self):\n",
        "    print(f\"Name: {self.name}\")\n",
        "    print(f\"Bus Fare:{self.bus_fare} taka\")\n",
        "\n",
        "\n",
        "print(\"Total Passenger:\", Passenger.count)\n",
        "p1 = Passenger(\"Jack\")\n",
        "p1.set_bag_weight(90)\n",
        "p2 = Passenger(\"Carol\")\n",
        "p2.set_bag_weight(10)\n",
        "p3 = Passenger(\"Mike\")\n",
        "p3.set_bag_weight(25)\n",
        "print(\"=========================\")\n",
        "p1.printDetail()\n",
        "print(\"=========================\")\n",
        "p2.printDetail()\n",
        "print(\"=========================\")\n",
        "p3.printDetail()\n",
        "print(\"=========================\")\n",
        "print(\"Total Passenger:\", Passenger.count)\n"
      ],
      "metadata": {
        "colab": {
          "base_uri": "https://localhost:8080/"
        },
        "id": "E8Ueb0gi9wwT",
        "outputId": "be772d29-60a5-47b4-a31d-4af5d8a057d6"
      },
      "execution_count": null,
      "outputs": [
        {
          "output_type": "stream",
          "name": "stdout",
          "text": [
            "Total Passenger: 0\n",
            "=========================\n",
            "Name: Jack\n",
            "Bus Fare:550 taka\n",
            "=========================\n",
            "Name: Carol\n",
            "Bus Fare:450 taka\n",
            "=========================\n",
            "Name: Mike\n",
            "Bus Fare:500 taka\n",
            "=========================\n",
            "Total Passenger: 3\n"
          ]
        }
      ]
    },
    {
      "cell_type": "code",
      "source": [
        "#Task 4\n",
        "class Travel:\n",
        "  count=0\n",
        "  def __init__(self,source,to):\n",
        "    self.source=source\n",
        "    self.to=to\n",
        "    self.f_time= \"1:00\"\n",
        "    Travel.count+=1\n",
        "  def set_time(self,time):\n",
        "    self.f_time = str(time) + \":00\"\n",
        "  def set_destination(self,place):\n",
        "    self.to=place\n",
        "  def set_source(self,s):\n",
        "    self.source=s\n",
        "  def display_travel_info(self):\n",
        "    return (f\"Source: {self.source}\\nDestination:{self.to}\\nFlight Time:{self.f_time}\")\n",
        "\n",
        "print(\"No. of Traveller =\", Travel.count)\n",
        "print(\"=======================\")\n",
        "t1 = Travel(\"Dhaka\",\"India\")\n",
        "print(t1.display_travel_info())\n",
        "print(\"=======================\")\n",
        "t2 = Travel(\"Kuala Lampur\",\"Dhaka\")\n",
        "t2.set_time(23)\n",
        "print(t2.display_travel_info())\n",
        "print(\"=======================\")\n",
        "t3 = Travel(\"Dhaka\",\"New_Zealand\")\n",
        "t3.set_time(15)\n",
        "t3.set_destination(\"Germany\")\n",
        "print(t3.display_travel_info())\n",
        "print(\"=======================\")\n",
        "t4 = Travel(\"Dhaka\",\"India\")\n",
        "t4.set_time(9)\n",
        "t4.set_source(\"Malaysia\")\n",
        "t4.set_destination(\"Canada\")\n",
        "print(t4.display_travel_info())\n",
        "print(\"=======================\")\n",
        "print(\"No. of Traveller =\", Travel.count)\n"
      ],
      "metadata": {
        "colab": {
          "base_uri": "https://localhost:8080/"
        },
        "id": "eAXoJ3i1HGdI",
        "outputId": "d2fc4f1e-c813-4f0b-fd72-fd6b7b5732dd"
      },
      "execution_count": null,
      "outputs": [
        {
          "output_type": "stream",
          "name": "stdout",
          "text": [
            "No. of Traveller = 0\n",
            "=======================\n",
            "Source: Dhaka\n",
            "Destination:India\n",
            "Flight Time:1:00\n",
            "=======================\n",
            "Source: Kuala Lampur\n",
            "Destination:Dhaka\n",
            "Flight Time:23:00\n",
            "=======================\n",
            "Source: Dhaka\n",
            "Destination:Germany\n",
            "Flight Time:15:00\n",
            "=======================\n",
            "Source: Malaysia\n",
            "Destination:Canada\n",
            "Flight Time:9:00\n",
            "=======================\n",
            "No. of Traveller = 4\n"
          ]
        }
      ]
    },
    {
      "cell_type": "code",
      "source": [
        "#Task 5\n",
        "class Employee:\n",
        "  year=2023\n",
        "  def __init__(self,name,workingPeriod):\n",
        "    self.name=name\n",
        "    self.workingPeriod=workingPeriod\n",
        "\n",
        "  @classmethod\n",
        "  def employeeByJoiningYear(cls,name,joining_year):\n",
        "    name=name\n",
        "    joining_year=joining_year\n",
        "    workingPeriod = Employee.year - joining_year\n",
        "    return cls(name,workingPeriod)\n",
        "  @staticmethod\n",
        "  def experienceCheck(experience, gender):\n",
        "    experience= experience\n",
        "    gender=gender\n",
        "\n",
        "    if experience>3:\n",
        "      if gender == \"male\":\n",
        "        return \"He is experienced\"\n",
        "      else:\n",
        "        return \"She is experienced\"\n",
        "    else:\n",
        "      if gender == \"male\":\n",
        "        return \"He is not experienced\"\n",
        "      else:\n",
        "        return \"She is not experienced\"\n",
        "\n",
        "employee1 = Employee('Dororo', 3)\n",
        "employee2 = Employee.employeeByJoiningYear('Harry', 2016)\n",
        "print(employee1.workingPeriod)\n",
        "print(employee2.workingPeriod)\n",
        "print(employee1.name)\n",
        "print(employee2.name)\n",
        "print(Employee.experienceCheck(2, \"male\"))\n",
        "print(Employee.experienceCheck(3, \"female\"))"
      ],
      "metadata": {
        "id": "4hBEKfqyFUvJ",
        "colab": {
          "base_uri": "https://localhost:8080/"
        },
        "outputId": "e08616eb-433b-4d3e-b626-459a9e1e8c6d"
      },
      "execution_count": null,
      "outputs": [
        {
          "output_type": "stream",
          "name": "stdout",
          "text": [
            "3\n",
            "7\n",
            "Dororo\n",
            "Harry\n",
            "He is not experienced\n",
            "She is not experienced\n"
          ]
        }
      ]
    },
    {
      "cell_type": "code",
      "source": [
        "class Employee:\n",
        "    def __init__(self, name, workingPeriod):\n",
        "        self.name = name\n",
        "        self.workingPeriod = workingPeriod\n",
        "\n",
        "    @classmethod\n",
        "    def employeeByJoiningYear(cls, name, year):\n",
        "        current_year = 2023\n",
        "        working_period = current_year - year\n",
        "        return cls(name, working_period)\n",
        "\n",
        "    @staticmethod\n",
        "    def experienceCheck(working_period, gender):\n",
        "      Working_period=working_period\n",
        "      pronoun=\"He\"\n",
        "      if gender==\"female\":\n",
        "        pronoun=\"She\"\n",
        "      if Working_period<3:\n",
        "        return(f\"{pronoun} is not experienced\")\n",
        "      else:\n",
        "        return(f\"{pronoun} is experienced\")\n",
        "\n",
        "employee1 = Employee('Dororo', 3)\n",
        "employee2 = Employee.employeeByJoiningYear('Harry', 2016)\n",
        "print(employee1.workingPeriod)\n",
        "print(employee2.workingPeriod)\n",
        "print(employee1.name)\n",
        "print(employee2.name)\n",
        "print(Employee.experienceCheck(2, \"male\"))\n",
        "print(Employee.experienceCheck(3, \"female\"))\n"
      ],
      "metadata": {
        "colab": {
          "base_uri": "https://localhost:8080/"
        },
        "id": "lJrbnMqW6rGX",
        "outputId": "f44e0953-9a92-4d86-d13b-a8027fb657ed"
      },
      "execution_count": null,
      "outputs": [
        {
          "output_type": "stream",
          "name": "stdout",
          "text": [
            "3\n",
            "7\n",
            "Dororo\n",
            "Harry\n",
            "He is not experienced\n",
            "She is experienced\n"
          ]
        }
      ]
    },
    {
      "cell_type": "code",
      "source": [
        "#Task 6\n",
        "class Laptop:\n",
        "    laptopCount=0\n",
        "    def __init__(self,company,stock):\n",
        "        self.name=company\n",
        "        self.count=stock\n",
        "        Laptop.laptopCount+=self.count\n",
        "\n",
        "    #Static Method\n",
        "    @staticmethod\n",
        "    def advantage():\n",
        "        print(\"Laptops are portable\")\n",
        "\n",
        "    #Class Method\n",
        "    @classmethod\n",
        "    def resetCount(cls):\n",
        "        cls.laptopCount=0\n",
        "\n",
        "\n",
        "\n",
        "lenovo = Laptop(\"Lenovo\", 5);\n",
        "dell = Laptop(\"Dell\", 7);\n",
        "print(lenovo.name, lenovo.count)\n",
        "print(dell.name, dell.count)\n",
        "print(\"Total number of Laptops\", Laptop.laptopCount)\n",
        "Laptop.advantage()\n",
        "Laptop.resetCount()\n",
        "print(\"Total number of Laptops\", Laptop.laptopCount)\n"
      ],
      "metadata": {
        "id": "ipcE5KQjYycn",
        "colab": {
          "base_uri": "https://localhost:8080/"
        },
        "outputId": "ca26384d-7a8e-4a1d-f4c2-d6bf7e269251"
      },
      "execution_count": null,
      "outputs": [
        {
          "output_type": "stream",
          "name": "stdout",
          "text": [
            "Lenovo 5\n",
            "Dell 7\n",
            "Total number of Laptops 12\n",
            "Laptops are portable\n",
            "Total number of Laptops 0\n"
          ]
        }
      ]
    },
    {
      "cell_type": "code",
      "source": [
        "#Task 7\n",
        "class Cat:\n",
        "    Number_of_cats=0\n",
        "    def __init__(self,color,activity):\n",
        "        self.color=color\n",
        "        self.activity=activity\n",
        "        Cat.Number_of_cats+=1\n",
        "\n",
        "    def changeColor(self,color):\n",
        "        self.color=color\n",
        "\n",
        "    @classmethod\n",
        "    def first_parameter(cls,color):\n",
        "        color=color\n",
        "        activity=\"sitting\"\n",
        "        a=cls(color,activity)\n",
        "        return a\n",
        "    @classmethod\n",
        "    def second_parameter(cls,activity):\n",
        "        color=\"Grey\"\n",
        "        activity=activity\n",
        "        a=cls(color,activity)\n",
        "        return a\n",
        "    def printCat(self):\n",
        "        print(f\"{self.color} cat is {self.activity}\")\n",
        "    #Class Methods\n",
        "    @classmethod\n",
        "    def no_parameter(cls):\n",
        "        color=\"White\"\n",
        "        activity=\"sitting\"\n",
        "        a=cls(color,activity)\n",
        "        return a\n",
        "\n",
        "\n",
        "print(\"Total number of cats:\", Cat.Number_of_cats)\n",
        "c1 = Cat.no_parameter()\n",
        "c2 = Cat.first_parameter(\"Black\")\n",
        "c3 = Cat(\"Brown\", \"jumping\")\n",
        "c4 = Cat(\"Red\", \"purring\")\n",
        "c5 = Cat.second_parameter(\"playing\")\n",
        "print(\"=======================\")\n",
        "c1.printCat()\n",
        "c2.printCat()\n",
        "c3.printCat()\n",
        "c4.printCat()\n",
        "c5.printCat()\n",
        "c1.changeColor(\"Blue\")\n",
        "c3.changeColor(\"Purple\")\n",
        "c1.printCat()\n",
        "c3.printCat()\n",
        "print(\"=======================\")\n",
        "print(\"Total number of cats:\", Cat.Number_of_cats)\n"
      ],
      "metadata": {
        "colab": {
          "base_uri": "https://localhost:8080/"
        },
        "id": "b3svJHrZ5wik",
        "outputId": "d331309e-c8a5-4031-95af-2d5c8ff699a9"
      },
      "execution_count": null,
      "outputs": [
        {
          "output_type": "stream",
          "name": "stdout",
          "text": [
            "Total number of cats: 0\n",
            "=======================\n",
            "White cat is sitting\n",
            "Black cat is sitting\n",
            "Brown cat is jumping\n",
            "Red cat is purring\n",
            "Grey cat is playing\n",
            "Blue cat is sitting\n",
            "Purple cat is jumping\n",
            "=======================\n",
            "Total number of cats: 5\n"
          ]
        }
      ]
    },
    {
      "cell_type": "code",
      "source": [
        "#Task 8\n",
        "from math import pi\n",
        "class Cylinder:\n",
        "    radius=5\n",
        "    height=18\n",
        "    def __init__(self,r,h):\n",
        "        print(f\"Default radius={Cylinder.radius} and height={Cylinder.height}.\")\n",
        "        self.height=h\n",
        "        self.radius=r\n",
        "        Cylinder.radius=self.radius\n",
        "        Cylinder.height=self.height\n",
        "        print(f\"Updated radius={Cylinder.radius} and height={Cylinder.height}.\")\n",
        "\n",
        "    #Static Methods\n",
        "    @staticmethod\n",
        "    def area(x1,y1):\n",
        "        area=(2*pi*(x1**2))+(2*pi*x1*y1)\n",
        "        print(f\"Area: {area}\")\n",
        "    @staticmethod\n",
        "    def volume(x1,y1):\n",
        "        volume=pi*(x1**2)*y1\n",
        "        print(f\"Volume: {volume}\")\n",
        "    #Class Methods\n",
        "    @classmethod\n",
        "    def swap(cls,h,r):\n",
        "        height=h\n",
        "        radius=r\n",
        "        a=cls(radius,height)\n",
        "        return (a)\n",
        "    @classmethod\n",
        "    def changeFormat(cls,info):\n",
        "        x=info.split(\"-\")\n",
        "        radius=float(int(x[0]))\n",
        "        height=float(int(x[-1]))\n",
        "        b=cls(radius,height)\n",
        "        return b\n",
        "\n",
        "\n",
        "c1 = Cylinder(0,0)\n",
        "Cylinder.area(c1.radius,c1.height)\n",
        "Cylinder.volume(c1.radius,c1.height)\n",
        "print(\"===============================\")\n",
        "c2 = Cylinder.swap(8,3)\n",
        "c2.area(c2.radius,c2.height)\n",
        "c2.volume(c2.radius,c2.height)\n",
        "print(\"===============================\")\n",
        "c3 = Cylinder.changeFormat(\"7-13\")\n",
        "c3.area(c3.radius,c3.height)\n",
        "c3.volume(c3.radius,c3.height)\n",
        "print(\"===============================\")\n",
        "Cylinder(0.3,5.56).area(Cylinder.radius,Cylinder.height)\n",
        "print(\"===============================\")\n",
        "Cylinder(3,5).volume(Cylinder.radius,Cylinder.height)\n"
      ],
      "metadata": {
        "colab": {
          "base_uri": "https://localhost:8080/"
        },
        "id": "-WJIRAioCvqC",
        "outputId": "e14d6346-657c-40a1-efab-53b68844f179"
      },
      "execution_count": null,
      "outputs": [
        {
          "output_type": "stream",
          "name": "stdout",
          "text": [
            "Default radius=5 and height=18.\n",
            "Updated radius=0 and height=0.\n",
            "Area: 0.0\n",
            "Volume: 0.0\n",
            "===============================\n",
            "Default radius=0 and height=0.\n",
            "Updated radius=3 and height=8.\n",
            "Area: 207.34511513692635\n",
            "Volume: 226.1946710584651\n",
            "===============================\n",
            "Default radius=3 and height=8.\n",
            "Updated radius=7.0 and height=13.0.\n",
            "Area: 879.645943005142\n",
            "Volume: 2001.1945203366981\n",
            "===============================\n",
            "Default radius=7.0 and height=13.0.\n",
            "Updated radius=0.3 and height=5.56.\n",
            "Area: 11.045839770021713\n",
            "===============================\n",
            "Default radius=0.3 and height=5.56.\n",
            "Updated radius=3 and height=5.\n",
            "Volume: 141.3716694115407\n"
          ]
        }
      ]
    },
    {
      "cell_type": "code",
      "source": [
        "#Task 9\n",
        "class Student:\n",
        "    total_student=0\n",
        "    bracu_student=0\n",
        "    other_student=0\n",
        "    def __init__(self,name,dept,uni=\"BRAC University\"):\n",
        "        self.name=name\n",
        "        self.dept=dept\n",
        "        self.uni=uni\n",
        "        Student.total_student+=1\n",
        "        if self.uni==\"BRAC University\":\n",
        "            Student.bracu_student+=1\n",
        "        elif self.uni!=\"BRAC University\":\n",
        "            Student.other_student+=1\n",
        "\n",
        "    def individualDetail(self):\n",
        "        print(f\"Name: {self.name}\\nDepartment: {self.dept}\\nInstituion: {self.uni}\")\n",
        "    #Class Methods\n",
        "    @classmethod\n",
        "    def printDetails(cls):\n",
        "        print(f\"Total Student(s): {cls.total_student}\\nBRAC University Student(s): {cls.bracu_student}\\nOther Institution Student(s): {cls.other_student}\")\n",
        "\n",
        "    @classmethod\n",
        "    def createStudent(cls,name,dept,uni=\"BRAC University\"):\n",
        "        std=cls(name,dept,uni)\n",
        "        return std\n",
        "\n",
        "Student.printDetails()\n",
        "print('#########################')\n",
        "mikasa = Student('Mikasa Ackerman', \"CSE\")\n",
        "mikasa.individualDetail()\n",
        "print('------------------------------------------')\n",
        "Student.printDetails()\n",
        "print('========================')\n",
        "harry = Student.createStudent('Harry Potter', \"Defence Against Dark Arts\", \"Hogwarts School\")\n",
        "harry.individualDetail()\n",
        "print('-------------------------------------------')\n",
        "Student.printDetails()\n",
        "print('=========================')\n",
        "levi = Student.createStudent(\"Levi Ackerman\", \"CSE\")\n",
        "levi.individualDetail()\n",
        "print('--------------------------------------------')\n",
        "Student.printDetails()"
      ],
      "metadata": {
        "colab": {
          "base_uri": "https://localhost:8080/"
        },
        "id": "4Jwm8eYqHoeC",
        "outputId": "43b9c30f-f7c8-4d27-a6ab-ce5e888bba9b"
      },
      "execution_count": null,
      "outputs": [
        {
          "output_type": "stream",
          "name": "stdout",
          "text": [
            "Total Student(s): 0\n",
            "BRAC University Student(s): 0\n",
            "Other Institution Student(s): 0\n",
            "#########################\n",
            "Name: Mikasa Ackerman\n",
            "Department: CSE\n",
            "Instituion: BRAC University\n",
            "------------------------------------------\n",
            "Total Student(s): 1\n",
            "BRAC University Student(s): 1\n",
            "Other Institution Student(s): 0\n",
            "========================\n",
            "Name: Harry Potter\n",
            "Department: Defence Against Dark Arts\n",
            "Instituion: Hogwarts School\n",
            "-------------------------------------------\n",
            "Total Student(s): 2\n",
            "BRAC University Student(s): 1\n",
            "Other Institution Student(s): 1\n",
            "=========================\n",
            "Name: Levi Ackerman\n",
            "Department: CSE\n",
            "Instituion: BRAC University\n",
            "--------------------------------------------\n",
            "Total Student(s): 3\n",
            "BRAC University Student(s): 2\n",
            "Other Institution Student(s): 1\n"
          ]
        }
      ]
    },
    {
      "cell_type": "code",
      "source": [
        "#Task 10\n",
        "class SultansDine:\n",
        "    branch_no = 0\n",
        "    branch_info_lst = []\n",
        "    sell = 0\n",
        "\n",
        "    def __init__(self, branch):\n",
        "        self.branch = branch\n",
        "        SultansDine.branch_no += 1\n",
        "\n",
        "    def sellQuantity(self, quantity):\n",
        "        self.quantity = quantity\n",
        "        if self.quantity < 10:\n",
        "            self.sell = self.quantity * 300\n",
        "        elif 10 <= self.quantity < 20:\n",
        "            self.sell = self.quantity * 350\n",
        "        else:\n",
        "            self.sell = self.quantity * 400\n",
        "        SultansDine.sell += self.sell\n",
        "        self.sell_percentage = (self.sell / SultansDine.sell) * 100\n",
        "        SultansDine.branch_info_lst.append([self.branch, self.sell, self.sell_percentage])\n",
        "\n",
        "    def branchInformation(self):\n",
        "        print(f\"Branch Name: {self.branch}\\nBranch Sell: {self.sell} Taka\")\n",
        "\n",
        "    # Class Method\n",
        "    @classmethod\n",
        "    def details(cls):\n",
        "        print(f\"Total Number of branch(s): {cls.branch_no}\")\n",
        "        print(f\"Total Sell: {cls.sell}\")\n",
        "        if len(cls.branch_info_lst) == 0:\n",
        "            pass\n",
        "        elif len(cls.branch_info_lst) > 0:\n",
        "            for i in cls.branch_info_lst:\n",
        "                if i[-1] == 100.0:\n",
        "                    percent = \"100.00\"\n",
        "                    print(f\"Branch Name: {i[0]}, Branch Sell: {i[1]}\\nBranch consists of total sell's: {percent}%\")\n",
        "                elif i[-1] != 100.0:\n",
        "                    print(\n",
        "                        f\"Branch Name: {i[0]}, Branch Sell: {i[1]}\\nBranch consists of total sell's: {round(i[-1], 2)}%\")\n",
        "\n",
        "\n",
        "SultansDine.details()\n",
        "print('########################')\n",
        "dhanmodi = SultansDine('Dhanmondi')\n",
        "dhanmodi.sellQuantity(25)\n",
        "dhanmodi.branchInformation()\n",
        "print('-----------------------------------------')\n",
        "SultansDine.details()\n",
        "print('========================')\n",
        "baily_road = SultansDine('Baily Road')\n",
        "baily_road.sellQuantity(15)\n",
        "baily_road.branchInformation()\n",
        "print('-----------------------------------------')\n",
        "SultansDine.details()\n",
        "print('========================')\n",
        "gulshan = SultansDine('Gulshan')\n",
        "gulshan.sellQuantity(9)\n",
        "gulshan.branchInformation()\n",
        "print('-----------------------------------------')\n",
        "SultansDine.details()"
      ],
      "metadata": {
        "colab": {
          "base_uri": "https://localhost:8080/"
        },
        "id": "pYnvQLA3MAuq",
        "outputId": "f114acc2-fef6-4e63-a505-be851afb4f33"
      },
      "execution_count": null,
      "outputs": [
        {
          "output_type": "stream",
          "name": "stdout",
          "text": [
            "Total Number of branch(s): 0\n",
            "Total Sell: 0\n",
            "########################\n",
            "Branch Name: Dhanmondi\n",
            "Branch Sell: 10000 Taka\n",
            "-----------------------------------------\n",
            "Total Number of branch(s): 1\n",
            "Total Sell: 10000\n",
            "Branch Name: Dhanmondi, Branch Sell: 10000\n",
            "Branch consists of total sell's: 100.00%\n",
            "========================\n",
            "Branch Name: Baily Road\n",
            "Branch Sell: 5250 Taka\n",
            "-----------------------------------------\n",
            "Total Number of branch(s): 2\n",
            "Total Sell: 15250\n",
            "Branch Name: Dhanmondi, Branch Sell: 10000\n",
            "Branch consists of total sell's: 100.00%\n",
            "Branch Name: Baily Road, Branch Sell: 5250\n",
            "Branch consists of total sell's: 34.43%\n",
            "========================\n",
            "Branch Name: Gulshan\n",
            "Branch Sell: 2700 Taka\n",
            "-----------------------------------------\n",
            "Total Number of branch(s): 3\n",
            "Total Sell: 17950\n",
            "Branch Name: Dhanmondi, Branch Sell: 10000\n",
            "Branch consists of total sell's: 100.00%\n",
            "Branch Name: Baily Road, Branch Sell: 5250\n",
            "Branch consists of total sell's: 34.43%\n",
            "Branch Name: Gulshan, Branch Sell: 2700\n",
            "Branch consists of total sell's: 15.04%\n"
          ]
        }
      ]
    },
    {
      "cell_type": "code",
      "source": [],
      "metadata": {
        "id": "PviJ5vkFdaLn"
      },
      "execution_count": null,
      "outputs": []
    },
    {
      "cell_type": "code",
      "source": [],
      "metadata": {
        "id": "16TsC4VGdaRF"
      },
      "execution_count": null,
      "outputs": []
    },
    {
      "cell_type": "code",
      "source": [],
      "metadata": {
        "id": "EjNCqWkYdaUH"
      },
      "execution_count": null,
      "outputs": []
    },
    {
      "cell_type": "code",
      "source": [],
      "metadata": {
        "id": "nVF-zLxKdaWv"
      },
      "execution_count": null,
      "outputs": []
    },
    {
      "cell_type": "code",
      "source": [
        "#Practice\n",
        "class SportsPerson:\n",
        "    def __init__(self, team_name, name, role):\n",
        "        self.__team = team_name\n",
        "        self.__name = name\n",
        "        self.role = role\n",
        "        self.earning_per_match = 0\n",
        "\n",
        "    def get_name_team(self):\n",
        "        return 'Name: ' + self.__name + ', Team Name: ' + self.__team\n",
        "\n",
        "class Player(SportsPerson):\n",
        "    def __init__(self, team_name, name, role, total_goal, total_match):\n",
        "        super().__init__(team_name, name, role)\n",
        "        self.total_goal = total_goal\n",
        "        self.total_match = total_match\n",
        "\n",
        "    def calculate_ratio(self):\n",
        "        self.goal_ratio = self.total_goal / self.total_match\n",
        "\n",
        "    def calculate_earning(self):\n",
        "        self.earning_per_match = (self.total_goal * 1000) + (self.total_match * 10)\n",
        "\n",
        "    def print_details(self):\n",
        "        self.calculate_ratio()\n",
        "        self.calculate_earning()\n",
        "        print(self.get_name_team())\n",
        "        print('Team Role:', self.role)\n",
        "        print('Total Goal:', self.total_goal, 'Total Played:', self.total_match)\n",
        "        print('Goal Ratio:', self.goal_ratio)\n",
        "        print('Match Earning:', str(self.earning_per_match) + 'K')\n",
        "\n",
        "class Manager(SportsPerson):\n",
        "    def __init__(self, team_name, name, role, match_win):\n",
        "        super().__init__(team_name, name, role)\n",
        "        self.match_win = match_win\n",
        "\n",
        "    def calculate_earning(self):\n",
        "        self.earning_per_match = self.match_win * 1000\n",
        "\n",
        "    def print_details(self):\n",
        "        self.calculate_earning()\n",
        "        print(self.get_name_team())\n",
        "        print('Team Role:', self.role)\n",
        "        print('Total Win:', self.match_win)\n",
        "        print('Match Earning:', str(self.earning_per_match) + 'K')\n",
        "\n",
        "# Driver code:\n",
        "player_one = Player('Juventus', 'Ronaldo', 'Striker', 25, 32)\n",
        "player_one.calculate_ratio()\n",
        "player_one.print_details()\n",
        "print('------------------------------------------')\n",
        "manager_one = Manager('Real Madrid', 'Zidane', 'Manager', 25)\n",
        "manager_one.print_details()\n"
      ],
      "metadata": {
        "colab": {
          "base_uri": "https://localhost:8080/"
        },
        "id": "nmUjl29RdaZW",
        "outputId": "a08e973e-1cad-4c21-fe6f-d5ddd64396a5"
      },
      "execution_count": null,
      "outputs": [
        {
          "output_type": "stream",
          "name": "stdout",
          "text": [
            "Name: Ronaldo, Team Name: Juventus\n",
            "Team Role: Striker\n",
            "Total Goal: 25 Total Played: 32\n",
            "Goal Ratio: 0.78125\n",
            "Match Earning: 25320K\n",
            "------------------------------------------\n",
            "Name: Zidane, Team Name: Real Madrid\n",
            "Team Role: Manager\n",
            "Total Win: 25\n",
            "Match Earning: 25000K\n"
          ]
        }
      ]
    }
  ]
}