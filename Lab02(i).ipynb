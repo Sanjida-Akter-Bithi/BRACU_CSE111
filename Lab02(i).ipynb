{
  "nbformat": 4,
  "nbformat_minor": 0,
  "metadata": {
    "colab": {
      "provenance": [],
      "authorship_tag": "ABX9TyND9e2C8lmLlgX1geqFdjxA",
      "include_colab_link": true
    },
    "kernelspec": {
      "name": "python3",
      "display_name": "Python 3"
    },
    "language_info": {
      "name": "python"
    }
  },
  "cells": [
    {
      "cell_type": "markdown",
      "metadata": {
        "id": "view-in-github",
        "colab_type": "text"
      },
      "source": [
        "<a href=\"https://colab.research.google.com/github/Sanjida-Akter-Bithi/BRACU_CSE111/blob/main/Lab02(i).ipynb\" target=\"_parent\"><img src=\"https://colab.research.google.com/assets/colab-badge.svg\" alt=\"Open In Colab\"/></a>"
      ]
    },
    {
      "cell_type": "code",
      "execution_count": null,
      "metadata": {
        "colab": {
          "base_uri": "https://localhost:8080/"
        },
        "id": "YLBi0Mz9jnH0",
        "outputId": "bcfc87a6-05e1-46a1-e0d3-5c774014d569"
      },
      "outputs": [
        {
          "output_type": "stream",
          "name": "stdout",
          "text": [
            "0.5\n"
          ]
        }
      ],
      "source": [
        "#Task 01\n",
        "def something(a,b):\n",
        "  if b==0:\n",
        "    return 0\n",
        "  else:\n",
        "    return a/b-int(a/b)\n",
        "print(something(5,2))\n"
      ]
    },
    {
      "cell_type": "code",
      "source": [
        "#Task 02\n",
        "def bmi(height, weight):\n",
        "    result = weight/((height/100)**2)\n",
        "    if result < 18.5:\n",
        "        print(f\"Your score is {result}. You are Underweight.\")\n",
        "    elif 18.5 <= result <= 24.9:\n",
        "        print(f\"Your score is {result}. You are Normal.\")\n",
        "    elif 25 <= result <= 30 :\n",
        "        print(f\"Your score is %.1f.\" % result, \"You are overweight.\")\n",
        "    elif result > 30:\n",
        "        print(f\"Your score is {round(result,1)}. You are overweight.\")\n",
        "a = int(input(\"Ënter the height : \"))\n",
        "b = int(input(\"Ënter the weigh : \"))\n",
        "bmi(a,b)"
      ],
      "metadata": {
        "colab": {
          "base_uri": "https://localhost:8080/"
        },
        "id": "kgxlQ2_0mL0a",
        "outputId": "2a9d4787-a283-4b5d-9c6a-602b1473b3c1"
      },
      "execution_count": null,
      "outputs": [
        {
          "output_type": "stream",
          "name": "stdout",
          "text": [
            "Ënter the height : 175\n",
            "Ënter the weigh : 96\n",
            "Your score is 31.3. You are overweight.\n"
          ]
        }
      ]
    },
    {
      "cell_type": "code",
      "source": [
        "#Task03\n",
        "def function( minimum,maximum,divisor):\n",
        "  a=(divisor*maximum)-minimum\n",
        "  print(a)\n",
        "function(3,16,3)"
      ],
      "metadata": {
        "colab": {
          "base_uri": "https://localhost:8080/"
        },
        "id": "9Nft9h66q17s",
        "outputId": "7fee3aaf-3201-4fc2-d9d8-c2626d0a1517"
      },
      "execution_count": null,
      "outputs": [
        {
          "output_type": "stream",
          "name": "stdout",
          "text": [
            "45\n"
          ]
        }
      ]
    },
    {
      "cell_type": "code",
      "source": [
        "#Task 04\n",
        "def price(burger,place = \"Mohakhali\"):\n",
        "  a = {\"BBQ Chicken Cheese Burger\":250, \"Beef Burger\":170, \"Naga Drums\":200}\n",
        "  cost = 0\n",
        "  delivery = 0\n",
        "\n",
        "\n",
        "  for i,j in a.items():\n",
        "    if i == burger:\n",
        "      cost = j\n",
        "  if place == \"Mohakhali\":\n",
        "    delivery = 40\n",
        "  else:\n",
        "    delivery = 60\n",
        "\n",
        "  b = cost*(8/100)\n",
        "  total = cost  + delivery + b\n",
        "  return(round(total,1))\n",
        "\n",
        "print(price(\"Beef Burger\"))"
      ],
      "metadata": {
        "colab": {
          "base_uri": "https://localhost:8080/"
        },
        "id": "quB7v5_-zJ8a",
        "outputId": "ffb317ea-d717-40e2-8662-b2f1fe8a5d8f"
      },
      "execution_count": null,
      "outputs": [
        {
          "output_type": "stream",
          "name": "stdout",
          "text": [
            "223.6\n"
          ]
        }
      ]
    },
    {
      "cell_type": "code",
      "source": [
        "#Task 05\n",
        "def replace_domain(m1,m2,m3=\"kaaj.com\"):\n",
        "  m1_check = \"\"\n",
        "  m1_new = \"\"\n",
        "  ind = 0\n",
        "  for i in range(len(m1)):\n",
        "    if m1[i] == \"@\":\n",
        "      ind = i\n",
        "      m1_check = m1[i+1:]\n",
        "  if m1_check == m2:\n",
        "    print(f\"Unchanged: {m1}\")\n",
        "  else:\n",
        "    m1_new = m1[:ind+1] + m2\n",
        "    print(f\"Changed: {m1_new}\")\n",
        "replace_domain(\"bob@sheba.xyz\", \"sheba.xyz\")"
      ],
      "metadata": {
        "colab": {
          "base_uri": "https://localhost:8080/"
        },
        "id": "MhBKAFERzVxB",
        "outputId": "399154ef-172d-4056-9513-27f8c01db6f8"
      },
      "execution_count": null,
      "outputs": [
        {
          "output_type": "stream",
          "name": "stdout",
          "text": [
            "Unchanged: bob@sheba.xyz\n"
          ]
        }
      ]
    },
    {
      "cell_type": "code",
      "source": [
        "#task6\n",
        "def name_function(a):\n",
        "  b=\"aeiouAEIOU\"\n",
        "  c=\"\"\n",
        "  count=0\n",
        "  for i in a:\n",
        "    if i in b:\n",
        "      c+=i+\", \"\n",
        "      count+=1\n",
        "\n",
        "  if c==\"\":\n",
        "    print(\"No vowels in the name\")\n",
        "  else:\n",
        "    print(f\"Vowels:{c[:-2]}. Total number of vowels: {count}\")\n",
        "a=input()\n",
        "name_function(a)"
      ],
      "metadata": {
        "colab": {
          "base_uri": "https://localhost:8080/"
        },
        "id": "KxmF2wgtoiJ9",
        "outputId": "4a670f29-bd3f-4b72-b796-befe97146aeb"
      },
      "execution_count": null,
      "outputs": [
        {
          "output_type": "stream",
          "name": "stdout",
          "text": [
            "Bithika\n",
            "Vowels:i, i, a. Total number of vowels: 3\n"
          ]
        }
      ]
    },
    {
      "cell_type": "code",
      "source": [
        "#task7\n",
        "def palindrome(x):\n",
        "    x = x.lower()\n",
        "    y = \"\"\n",
        "    for i in x:\n",
        "        if i != \" \":\n",
        "            y += i\n",
        "\n",
        "    if y == y[-1::-1]:\n",
        "        print(\"Palindrome\")\n",
        "    else:\n",
        "        print(\"Not a palindrome\")\n",
        "\n",
        "palindrome(\"NursEs run\")"
      ],
      "metadata": {
        "colab": {
          "base_uri": "https://localhost:8080/"
        },
        "id": "kZ4O2zMGolRk",
        "outputId": "02b054fe-aea9-4e5d-e992-7bb425048e59"
      },
      "execution_count": null,
      "outputs": [
        {
          "output_type": "stream",
          "name": "stdout",
          "text": [
            "Palindrome\n"
          ]
        }
      ]
    },
    {
      "cell_type": "code",
      "source": [
        "#task 8\n",
        "def calender(Tdays):\n",
        "    years = Tdays//365\n",
        "    days = Tdays%365\n",
        "    months = days//30\n",
        "    days = days % 30\n",
        "    print(f\"{years} years, {months} months, {days} days\")\n",
        "\n",
        "calender(4320)"
      ],
      "metadata": {
        "colab": {
          "base_uri": "https://localhost:8080/"
        },
        "id": "19k7iRoHomv4",
        "outputId": "768a1957-4479-4afb-dbc8-8c7925d99feb"
      },
      "execution_count": null,
      "outputs": [
        {
          "output_type": "stream",
          "name": "stdout",
          "text": [
            "11 years, 10 months, 5 days\n"
          ]
        }
      ]
    },
    {
      "cell_type": "code",
      "source": [
        "#task 9\n",
        "def capitalize(x):\n",
        "    result = \"\"\n",
        "    marks = \".?!\"\n",
        "    for i in range(len(x)):\n",
        "        if i == 0:\n",
        "            result += x[i].upper()\n",
        "        elif i == 1:\n",
        "            result += x[i]\n",
        "        elif x[i-2] in marks:\n",
        "            result += x[i].upper()\n",
        "\n",
        "        elif x[i] == \"i\":\n",
        "            if x[i-1] == \" \" and x[i+1] == \" \":\n",
        "                result += x[i].upper()\n",
        "            else:\n",
        "                result += x[i]\n",
        "        else:\n",
        "            result += x[i]\n",
        "    return result\n",
        "\n",
        "print(capitalize(input()))"
      ],
      "metadata": {
        "colab": {
          "base_uri": "https://localhost:8080/"
        },
        "id": "g0nIuxrwoqVg",
        "outputId": "6e635cde-fdc4-4c75-ca51-20ffaa440d88"
      },
      "execution_count": null,
      "outputs": [
        {
          "output_type": "stream",
          "name": "stdout",
          "text": [
            "my favourite animal is a dog. a dog has sharp teeth so that it can eat flesh very easily. do you know my pet dog’s name? i love my pet very much.\n",
            "My favourite animal is a dog. A dog has sharp teeth so that it can eat flesh very easily. Do you know my pet dog’s name? I love my pet very much.\n"
          ]
        }
      ]
    }
  ]
}