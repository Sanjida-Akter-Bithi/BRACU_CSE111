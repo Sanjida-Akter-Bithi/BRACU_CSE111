{
  "nbformat": 4,
  "nbformat_minor": 0,
  "metadata": {
    "colab": {
      "provenance": [],
      "authorship_tag": "ABX9TyN7cimDZWp40/eiFes8AvHE",
      "include_colab_link": true
    },
    "kernelspec": {
      "name": "python3",
      "display_name": "Python 3"
    },
    "language_info": {
      "name": "python"
    }
  },
  "cells": [
    {
      "cell_type": "markdown",
      "metadata": {
        "id": "view-in-github",
        "colab_type": "text"
      },
      "source": [
        "<a href=\"https://colab.research.google.com/github/Sanjida-Akter-Bithi/BRACU_CSE111/blob/main/lab07.ipynb\" target=\"_parent\"><img src=\"https://colab.research.google.com/assets/colab-badge.svg\" alt=\"Open In Colab\"/></a>"
      ]
    },
    {
      "cell_type": "code",
      "execution_count": null,
      "metadata": {
        "colab": {
          "base_uri": "https://localhost:8080/"
        },
        "id": "92oubuC750QJ",
        "outputId": "3da003f8-5cf1-46b3-c119-8f193507c49f"
      },
      "outputs": [
        {
          "output_type": "stream",
          "name": "stdout",
          "text": [
            "Name: default Department: BBA\n",
            "Name: Humpty Dumpty Department: BBA\n",
            "Name: Little Bo Peep Department: BBA\n"
          ]
        }
      ],
      "source": [
        "#Task 01\n",
        "class Student:\n",
        "    def __init__(self,name=\"Just a student\",dept=\"nothing\"):\n",
        "        self.__name=name\n",
        "        self.__departmenmt=dept\n",
        "    def set_department(self,dept):\n",
        "        self.__departmenmt = dept\n",
        "    def get_name(self):\n",
        "        return self.__name\n",
        "    def set_name(self,name):\n",
        "        self.__name=name\n",
        "    def __str__(self):\n",
        "        return \"Name: \"+self.__name+\" Department: \"+self.__departmenmt\n",
        "\n",
        "class BBA_Student(Student):\n",
        "    def __init__(self,name=\"default\",dept=\"BBA\"):\n",
        "        # self.name=name\n",
        "        # self.dept=dept\n",
        "        super().__init__(name,dept)\n",
        "\n",
        "print(BBA_Student())\n",
        "print(BBA_Student(\"Humpty Dumpty\"))\n",
        "print(BBA_Student(\"Little Bo Peep\"))"
      ]
    },
    {
      "cell_type": "code",
      "source": [
        "#Task 02\n",
        "class Vehicle:\n",
        "    def __init__(self):\n",
        "        self.x = 0\n",
        "        self.y = 0\n",
        "    def moveUp(self):\n",
        "        self.y+=1\n",
        "    def moveDown(self):\n",
        "        self.y-=1\n",
        "    def moveRight(self):\n",
        "        self.x+=1\n",
        "    def moveLeft(self):\n",
        "        self.x-=1\n",
        "    def __str__(self):\n",
        "        return '('+str(self.x)+' , '+str(self.y)+')'\n",
        "\n",
        "class Vehicle2010(Vehicle):\n",
        "    def __init__(self):\n",
        "        self.x=0\n",
        "        self.y=0\n",
        "    def moveLowerLeft(self):\n",
        "        self.moveDown()\n",
        "        self.moveLeft()\n",
        "    def moveLowerRight(self):\n",
        "        self.moveDown()\n",
        "        self.moveRight()\n",
        "    def moveUpperLeft(self):\n",
        "        self.moveUp()\n",
        "        self.moveLeft()\n",
        "    def moveUpperRight(self):\n",
        "        self.moveUp()\n",
        "        self.moveRight()\n",
        "    def equals(self,other):\n",
        "        if (self.x==other.x) and (self.y==other.y):\n",
        "            self.condition=True\n",
        "        else:\n",
        "            self.condition=False\n",
        "        return self.condition\n",
        "\n",
        "#write your code here\n",
        "print('Part 1')\n",
        "print('------')\n",
        "car = Vehicle()\n",
        "print(car)\n",
        "car.moveUp()\n",
        "print(car)\n",
        "car.moveLeft()\n",
        "print(car)\n",
        "car.moveDown()\n",
        "print(car)\n",
        "car.moveRight()\n",
        "print(car)\n",
        "print('------')\n",
        "print('Part 2')\n",
        "print('------')\n",
        "car1 = Vehicle2010()\n",
        "print(car1)\n",
        "car1.moveLowerLeft()\n",
        "print(car1)\n",
        "car2 = Vehicle2010()\n",
        "car2.moveLeft()\n",
        "print(car1.equals(car2))\n",
        "car2.moveDown()\n",
        "print(car1.equals(car2))"
      ],
      "metadata": {
        "colab": {
          "base_uri": "https://localhost:8080/"
        },
        "id": "DnSI4Kb97Nev",
        "outputId": "4311ecca-7665-45cc-f06d-ea0cb6b3400b"
      },
      "execution_count": null,
      "outputs": [
        {
          "output_type": "stream",
          "name": "stdout",
          "text": [
            "Part 1\n",
            "------\n",
            "(0 , 0)\n",
            "(0 , 1)\n",
            "(-1 , 1)\n",
            "(-1 , 0)\n",
            "(0 , 0)\n",
            "------\n",
            "Part 2\n",
            "------\n",
            "(0 , 0)\n",
            "(-1 , -1)\n",
            "False\n",
            "True\n"
          ]
        }
      ]
    },
    {
      "cell_type": "code",
      "source": [
        "\n",
        "#Task 03\n",
        "class Tournament:\n",
        "    def __init__(self,name='Default'):\n",
        "        self.__name = name\n",
        "    def set_name(self,name):\n",
        "        self.__name = name\n",
        "    def get_name(self):\n",
        "        return self.__name\n",
        "\n",
        "class Cricket_Tournament(Tournament):\n",
        "    def __init__(self,tname=\"Default\",team_no=0,type=\"No type\"):\n",
        "        self.tname=tname\n",
        "        self.team_no=team_no\n",
        "        self.type=type\n",
        "        super().__init__(self.tname)\n",
        "    def detail(self):\n",
        "        return f\"Cricket Tournamet Name: {self.get_name()}\\nNumber of Teams: {self.team_no}\\nType: {self.type}\"\n",
        "\n",
        "class Tennis_Tournament(Tournament):\n",
        "    def __init__(self,tname=None,player_no=0):\n",
        "        self.tname=tname\n",
        "        self.players_no=player_no\n",
        "        super().__init__(self.tname)\n",
        "    def detail(self):\n",
        "        return f\"Tennis Tournament Name: {self.get_name()}\\nNumber of Players: {self.players_no}\"\n",
        "\n",
        "#write your code here\n",
        "ct1 = Cricket_Tournament()\n",
        "print(ct1.detail())\n",
        "print(\"-----------------------\")\n",
        "ct2 = Cricket_Tournament(\"IPL\",10,\"t20\")\n",
        "print(ct2.detail())\n",
        "print(\"-----------------------\")\n",
        "tt = Tennis_Tournament(\"Roland Garros\",128)\n",
        "print(tt.detail())\n"
      ],
      "metadata": {
        "colab": {
          "base_uri": "https://localhost:8080/"
        },
        "id": "FmeAzQMUDphH",
        "outputId": "d07e59be-9d5e-47c9-a108-b47bea513a34"
      },
      "execution_count": null,
      "outputs": [
        {
          "output_type": "stream",
          "name": "stdout",
          "text": [
            "Cricket Tournamet Name: Default\n",
            "Number of Teams: 0\n",
            "Type: No type\n",
            "-----------------------\n",
            "Cricket Tournamet Name: IPL\n",
            "Number of Teams: 10\n",
            "Type: t20\n",
            "-----------------------\n",
            "Tennis Tournament Name: Roland Garros\n",
            "Number of Players: 128\n"
          ]
        }
      ]
    },
    {
      "cell_type": "code",
      "source": [
        "#Task 04\n",
        "class Product:\n",
        "    def __init__(self,id, title, price):\n",
        "        self.__id = id\n",
        "        self. __title = title\n",
        "        self. __price = price\n",
        "    def get_id_title_price(self):\n",
        "        return \"ID: \"+str(self.__id)+\" Title:\"+self.__title+ \"Price: \"+str(self.__price)\n",
        "\n",
        "class Book(Product):\n",
        "    def __init__(self,id=0,title=None,price=0,ISBN=None,publisher=None):\n",
        "        self.id=id\n",
        "        self.title=title\n",
        "        self.price=price\n",
        "        self.isbn=ISBN\n",
        "        self.publisher=publisher\n",
        "        super().__init__(self.id,self.title,self.price)\n",
        "    def printDetail(self):\n",
        "        return f\"{self.get_id_title_price()} ISBN: {self.isbn} Publisher: {self.publisher}\"\n",
        "\n",
        "class CD(Product):\n",
        "    def __init__(self,id,title=None,price=0,band=None,duration=0,genre=None):\n",
        "        super().__init__(id,title,price)\n",
        "        self.band=band\n",
        "        self.duration=duration\n",
        "        self.genre=genre\n",
        "    def printDetail(self):\n",
        "        return f\"{self.get_id_title_price()} Band: {self.band} Duration: {self.duration}minutes Genre:{self.genre}\"\n",
        "#write your code here\n",
        "book = Book(1,\"The Alchemist\",500,\"97806\",\"HarperCollins\")\n",
        "print(book.printDetail())\n",
        "print(\"-----------------------\")\n",
        "cd = CD(2,\"Shotto\",300,\"Warfaze\",50,\"Hard Rock\")\n",
        "print(cd.printDetail())\n"
      ],
      "metadata": {
        "id": "LVCn4ILZJHpi",
        "colab": {
          "base_uri": "https://localhost:8080/"
        },
        "outputId": "d2f97a5a-eb69-4740-dc4c-a95048024135"
      },
      "execution_count": null,
      "outputs": [
        {
          "output_type": "stream",
          "name": "stdout",
          "text": [
            "ID: 1 Title:The AlchemistPrice: 500 ISBN: 97806 Publisher: HarperCollins\n",
            "-----------------------\n",
            "ID: 2 Title:ShottoPrice: 300 Band: Warfaze Duration: 50minutes Genre:Hard Rock\n"
          ]
        }
      ]
    },
    {
      "cell_type": "code",
      "source": [
        "#Task 05\n",
        "class Animal:\n",
        "    def __init__(self,sound):\n",
        "        self.__sound = sound\n",
        "    def makeSound(self):\n",
        "        return self.__sound\n",
        "\n",
        "class Printer:\n",
        "    def printSound(self, a):\n",
        "        print(a.makeSound())\n",
        "\n",
        "class Dog(Animal):\n",
        "    def __init__(self,sound):\n",
        "        self.sound=sound\n",
        "        super().__init__(self.sound)\n",
        "\n",
        "class Cat(Animal):\n",
        "    def __init__(self, sound):\n",
        "        self.sound = sound\n",
        "        super().__init__(self.sound)\n",
        "\n",
        "#write your code here\n",
        "d1 = Dog('bark')\n",
        "c1 = Cat('meow')\n",
        "a1 = Animal('Animal does not make sound')\n",
        "pr = Printer()\n",
        "pr.printSound(a1)\n",
        "pr.printSound(c1)\n",
        "pr.printSound(d1)"
      ],
      "metadata": {
        "colab": {
          "base_uri": "https://localhost:8080/"
        },
        "id": "5w42ywIwrsJ_",
        "outputId": "11e018d2-775e-4972-a4d0-4459bf946d25"
      },
      "execution_count": null,
      "outputs": [
        {
          "output_type": "stream",
          "name": "stdout",
          "text": [
            "Animal does not make sound\n",
            "meow\n",
            "bark\n"
          ]
        }
      ]
    },
    {
      "cell_type": "code",
      "source": [
        "#Task 06\n",
        "class Shape:\n",
        "    def __init__(self, name='Default', height=0, base=0):\n",
        "        self.area = 0\n",
        "        self.name = name\n",
        "        self.height = height\n",
        "        self.base = base\n",
        "    def get_height_base(self):\n",
        "        return \"Height: \"+str(self.height)+\",Base: \"+str(self.base)\n",
        "\n",
        "class triangle(Shape):\n",
        "    def __init__(self,shape=\"Default\",height=0,base=0):\n",
        "        super().__init__(shape,height,base)\n",
        "    def calcArea(self):\n",
        "        self.area=(1/2)*self.base*self.height\n",
        "    def printDetail(self):\n",
        "        print(\"Shape name:\",self.name)\n",
        "        return f\"{self.get_height_base()}\\nArea:{self.area}\"\n",
        "\n",
        "class trapezoid(Shape):\n",
        "    def __init__(self,shape=\"Default\",height=0,base=0,a_side=0):\n",
        "        self.a_side=a_side\n",
        "        super().__init__(shape,height,base)\n",
        "    def calcArea(self):\n",
        "        self.area=((self.a_side+self.base)/2)*self.height\n",
        "    def printDetail(self):\n",
        "        return f\"{self.get_height_base()}, Side_A: {self.a_side}\\nArea:{self.area}\"\n",
        "\n",
        "#write your code here\n",
        "tri_default = triangle()\n",
        "tri_default.calcArea()\n",
        "print(tri_default.printDetail())\n",
        "print('--------------------------')\n",
        "tri = triangle('Triangle', 10, 5)\n",
        "tri.calcArea()\n",
        "print(tri.printDetail())\n",
        "print('---------------------------')\n",
        "trap = trapezoid('Trapezoid', 10, 6, 4)\n",
        "trap.calcArea()\n",
        "print(trap.printDetail())"
      ],
      "metadata": {
        "colab": {
          "base_uri": "https://localhost:8080/"
        },
        "id": "2m8VFy3isJYm",
        "outputId": "cfb5a5de-6c6a-48f7-962b-332a01f16b3f"
      },
      "execution_count": null,
      "outputs": [
        {
          "output_type": "stream",
          "name": "stdout",
          "text": [
            "Shape name: Default\n",
            "Height: 0,Base: 0\n",
            "Area:0.0\n",
            "--------------------------\n",
            "Shape name: Triangle\n",
            "Height: 10,Base: 5\n",
            "Area:25.0\n",
            "---------------------------\n",
            "Height: 10,Base: 6, Side_A: 4\n",
            "Area:50.0\n"
          ]
        }
      ]
    },
    {
      "cell_type": "code",
      "source": [
        "#Task 07\n",
        "class Football:\n",
        "    def __init__(self, team_name, name, role):\n",
        "        self.__team = team_name\n",
        "        self.__name = name\n",
        "        self.role = role\n",
        "        self.earning_per_match = 0\n",
        "    def get_name_team(self):\n",
        "        return 'Name: '+self.__name+', Team Name: ' +self.__team\n",
        "\n",
        "class Player(Football):\n",
        "    def __init__(self,team,name,role,goal,play):\n",
        "        self.goals=goal\n",
        "        self.plays=play\n",
        "        super().__init__(team,name,role)\n",
        "    def calculate_ratio(self):\n",
        "        self.goal_ratio=round((self.goals/self.plays),5)\n",
        "    def print_details(self):\n",
        "        self.earning_per_match+=(self.goals*1000)+(self.plays*10)\n",
        "        print(self.get_name_team())\n",
        "        print(f\"Team Role: {self.role}\\nTotal Goal: {self.goals}, Total Playes: {self.plays}\\nGoal Ratio: {self.goal_ratio}\\nMatch Earning: {self.earning_per_match}K\")\n",
        "\n",
        "class Manager(Football):\n",
        "    def __init__(self,team,name,role,win):\n",
        "        super().__init__(team,name,role)\n",
        "        self.win=win\n",
        "    def print_details(self):\n",
        "        self.earning_per_match+=(self.win*1000)\n",
        "        print(self.get_name_team())\n",
        "        print(f\"Role: {self.role}\\nTotal Win: {self.win}\\nMatch Earning: {self.earning_per_match}K\")\n",
        "\n",
        "#write your code here\n",
        "player_one = Player('Juventus', 'Ronaldo', 'Striker', 25, 32)\n",
        "player_one.calculate_ratio()\n",
        "player_one.print_details()\n",
        "print('------------------------------------------')\n",
        "manager_one = Manager('Real Madrid', 'Zidane', 'Manager', 25)\n",
        "manager_one.print_details()"
      ],
      "metadata": {
        "colab": {
          "base_uri": "https://localhost:8080/"
        },
        "id": "R6IRLYISsWcW",
        "outputId": "0134d149-c8c0-42c8-a5d3-83e29c8b609c"
      },
      "execution_count": null,
      "outputs": [
        {
          "output_type": "stream",
          "name": "stdout",
          "text": [
            "Name: Ronaldo, Team Name: Juventus\n",
            "Team Role: Striker\n",
            "Total Goal: 25, Total Playes: 32\n",
            "Goal Ratio: 0.78125\n",
            "Match Earning: 25320K\n",
            "------------------------------------------\n",
            "Name: Zidane, Team Name: Real Madrid\n",
            "Role: Manager\n",
            "Total Win: 25\n",
            "Match Earning: 25000K\n"
          ]
        }
      ]
    }
  ]
}