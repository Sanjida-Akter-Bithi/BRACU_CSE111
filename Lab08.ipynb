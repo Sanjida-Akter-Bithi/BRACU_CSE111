{
  "nbformat": 4,
  "nbformat_minor": 0,
  "metadata": {
    "colab": {
      "provenance": [],
      "authorship_tag": "ABX9TyMwEAtbPP5B/pGzhpE/IHaC",
      "include_colab_link": true
    },
    "kernelspec": {
      "name": "python3",
      "display_name": "Python 3"
    },
    "language_info": {
      "name": "python"
    }
  },
  "cells": [
    {
      "cell_type": "markdown",
      "metadata": {
        "id": "view-in-github",
        "colab_type": "text"
      },
      "source": [
        "<a href=\"https://colab.research.google.com/github/Sanjida-Akter-Bithi/BRACU_CSE111/blob/main/Lab08.ipynb\" target=\"_parent\"><img src=\"https://colab.research.google.com/assets/colab-badge.svg\" alt=\"Open In Colab\"/></a>"
      ]
    },
    {
      "cell_type": "code",
      "execution_count": null,
      "metadata": {
        "id": "Sx1AP7wy4N4U",
        "colab": {
          "base_uri": "https://localhost:8080/"
        },
        "outputId": "24bae7f0-cc46-4b5d-8a33-bd198a5aef9c"
      },
      "outputs": [
        {
          "output_type": "stream",
          "name": "stdout",
          "text": [
            "RealPart: 1.0\n",
            "ImaginaryPart:1.0\n",
            "---------\n",
            "RealPart: 5.0\n",
            "ImaginaryPart:7.0\n"
          ]
        }
      ],
      "source": [
        "#Task 1\n",
        "class RealNumber:\n",
        "    def __init__(self, r=0):\n",
        "        self.__realValue = r\n",
        "    def getRealValue(self):\n",
        "        return self.__realValue\n",
        "    def setRealValue(self, r):\n",
        "        self.__realValue = r\n",
        "    def __str__(self):\n",
        "        return 'RealPart: '+str(self.getRealValue())\n",
        "class  ComplexNumber(RealNumber):\n",
        "  def __init__(self,r=1.0, ima_num=1.0):\n",
        "    super().__init__(float(r))\n",
        "    self.ima_num = float(ima_num)\n",
        "  def getImaginaryNumber(self):\n",
        "    return self.ima_num\n",
        "  def __str__(self):\n",
        "    return f\"{super().__str__()}\\nImaginaryPart:{self.getImaginaryNumber()}\"\n",
        "\n",
        "\n",
        "cn1 = ComplexNumber()\n",
        "print(cn1)\n",
        "print('---------')\n",
        "cn2 = ComplexNumber(5,7)\n",
        "print(cn2)"
      ]
    },
    {
      "cell_type": "code",
      "source": [
        "#Task 2\n",
        "class RealNumber:\n",
        "    def __init__(self, number=0):\n",
        "        self.number = number\n",
        "    def __add__(self, anotherRealNumber):\n",
        "        return self.number + anotherRealNumber.number\n",
        "    def __sub__(self, anotherRealNumber):\n",
        "        return self.number - anotherRealNumber.number\n",
        "    def __str__(self):\n",
        "        return str(self.number)\n",
        "\n",
        "\n",
        "class ComplexNumber(RealNumber):\n",
        "    def __init__(self, r=1,i=1):\n",
        "        if type(r) == int:\n",
        "            super().__init__(r)\n",
        "        else:\n",
        "            super().__init__(r.number)\n",
        "        self.i = i\n",
        "    def __add__(self, another):\n",
        "        x = super().__add__(another)\n",
        "        y = self.i + another.i\n",
        "        return ComplexNumber(x,y)\n",
        "    def __sub__(self, another):\n",
        "        x = super().__sub__(another)\n",
        "        y = self.i - another.i\n",
        "        return ComplexNumber(x,y)\n",
        "    def __str__(self):\n",
        "        if self.i>=0:\n",
        "            return super().__str__()+\"+\"+ str(self.i)+\"i\"\n",
        "        else:\n",
        "            return super().__str__()+str(self.i)+\"i\"\n",
        "\n",
        "\n",
        "\n",
        "r1 = RealNumber(3)\n",
        "r2 = RealNumber(5)\n",
        "print(r1+r2)\n",
        "cn1 = ComplexNumber(2, 1)\n",
        "print(cn1)\n",
        "cn2 = ComplexNumber(r1, 5)\n",
        "print(cn2)\n",
        "cn3 = cn1 + cn2\n",
        "print(cn3)\n",
        "cn4 = cn1 - cn2\n",
        "print(cn4)\n"
      ],
      "metadata": {
        "colab": {
          "base_uri": "https://localhost:8080/"
        },
        "id": "nPs465Xb-ZC2",
        "outputId": "a652ebdb-1b91-4a8d-f933-6396efda62df"
      },
      "execution_count": null,
      "outputs": [
        {
          "output_type": "stream",
          "name": "stdout",
          "text": [
            "8\n",
            "2+1i\n",
            "3+5i\n",
            "5+6i\n",
            "-1-4i\n"
          ]
        }
      ]
    },
    {
      "cell_type": "code",
      "source": [
        "#Task 3\n",
        "class Account:\n",
        "    def __init__(self, balance):\n",
        "        self._balance = balance\n",
        "    def getBalance(self):\n",
        "        return self._balance\n",
        "\n",
        "class CheckingAccount(Account):\n",
        "    numberOfAccount=0\n",
        "    def __init__(self,balance=0.0):\n",
        "        CheckingAccount.numberOfAccount+=1\n",
        "        super().__init__(balance)\n",
        "    def __str__(self):\n",
        "        return f\"Account Balance: {str(self.getBalance())}\"\n",
        "\n",
        "\n",
        "print('Number of Checking Accounts: ', CheckingAccount.numberOfAccount)\n",
        "print(CheckingAccount())\n",
        "print(CheckingAccount(100.00))\n",
        "print(CheckingAccount(200.00))\n",
        "print('Number of Checking Accounts: ', CheckingAccount.numberOfAccount)"
      ],
      "metadata": {
        "id": "t15RYKw6LWrk",
        "colab": {
          "base_uri": "https://localhost:8080/"
        },
        "outputId": "25a64857-5d2d-48f0-83e0-5b2890ca1046"
      },
      "execution_count": null,
      "outputs": [
        {
          "output_type": "stream",
          "name": "stdout",
          "text": [
            "Number of Checking Accounts:  0\n",
            "Account Balance: 0.0\n",
            "Account Balance: 100.0\n",
            "Account Balance: 200.0\n",
            "Number of Checking Accounts:  3\n"
          ]
        }
      ]
    },
    {
      "cell_type": "code",
      "source": [
        "#Task 4\n",
        "class Fruit:\n",
        "    def __init__(self, formalin=False, name=''):\n",
        "        self.__formalin = formalin\n",
        "        self.name = name\n",
        "    def getName(self):\n",
        "        return self.name\n",
        "    def hasFormalin(self):\n",
        "        return self.__formalin\n",
        "class testFruit:\n",
        "    def test(self, f):\n",
        "        print('----Printing Detail----')\n",
        "        if f.hasFormalin():\n",
        "            print('Do not eat the',f.getName(),'.')\n",
        "            print(f)\n",
        "        else:\n",
        "            print(f\"Eat the {f.getName()}.\")\n",
        "            print(f)\n",
        "\n",
        "\n",
        "class Mango(Fruit):\n",
        "    def __init__(self):\n",
        "        super().__init__(formalin=True,name= \"Mango\")\n",
        "\n",
        "    def __str__(self):\n",
        "        if super().hasFormalin():\n",
        "            return \"Mangos are bad for you\"\n",
        "        else:\n",
        "            return \"Mangos are good for you\"\n",
        "\n",
        "\n",
        "class Jackfruit(Fruit):\n",
        "    def __init__(self):\n",
        "        super().__init__(formalin=False,name= \"Jackfruit\")\n",
        "\n",
        "    def __str__(self):\n",
        "        if super().hasFormalin():\n",
        "            return \"Jackfruits are bad for you\"\n",
        "        else:\n",
        "            return \"Jackfruits are good for you\"\n",
        "\n",
        "m = Mango()\n",
        "j = Jackfruit()\n",
        "t1 = testFruit()\n",
        "t1.test(m)\n",
        "t1.test(j)"
      ],
      "metadata": {
        "id": "Dr3MUmd0LWwD",
        "colab": {
          "base_uri": "https://localhost:8080/"
        },
        "outputId": "db54a41c-6eb8-4624-9904-7fc111d84a46"
      },
      "execution_count": null,
      "outputs": [
        {
          "output_type": "stream",
          "name": "stdout",
          "text": [
            "----Printing Detail----\n",
            "Do not eat the Mango .\n",
            "Mangos are bad for you\n",
            "----Printing Detail----\n",
            "Eat the Jackfruit .\n",
            "Eat the Jackfruit.\n",
            "Jackfruits are good for you\n"
          ]
        }
      ]
    },
    {
      "cell_type": "code",
      "source": [
        "#Task 5\n",
        "class Exam:\n",
        "    def __init__(self, marks):\n",
        "        self.marks = marks\n",
        "        self.time = 60\n",
        "\n",
        "    def examSyllabus(self):\n",
        "        return \"Maths , English\"\n",
        "\n",
        "    def examParts(self):\n",
        "        return \"Part 1 - Maths\\nPart 2 - English\\n\"\n",
        "\n",
        "class ScienceExam(Exam):\n",
        "    def __str__(self):\n",
        "        return f\"Marks: {self.marks} Time: {self.time} minutes Number of Parts: {len(self.parts)+2}\"\n",
        "    def __init__(self,m,t,*parts):\n",
        "        super().__init__(m)\n",
        "        self.time=t\n",
        "        self.parts=parts\n",
        "\n",
        "    def examSyllabus(self):\n",
        "        a=\"\"\n",
        "        for i in self.parts:\n",
        "            a+=\" , \"+i\n",
        "        return f\"{super().examSyllabus()}{a}\"\n",
        "    def examParts(self):\n",
        "        b=3\n",
        "        c=\"\"\n",
        "        \"\"\"for i in self.parts:\n",
        "            c+=f\"Part {b} - {i}\\n\"\n",
        "            b+=1\"\"\"\n",
        "        \"\"\"for i in range(3,len(self.parts)+3):\n",
        "            c+= f\"Part {i} - {self.parts[i-3]}\\n\"\n",
        "        return f\"{super().examParts()}{c}\"\"\"\n",
        "\n",
        "        for i in range( len(self.parts)):\n",
        "            c += f\"Part {i+3} - {self.parts[i]}\\n\"\n",
        "        return f\"{super().examParts()}{c}\"\n",
        "\n",
        "engineering = ScienceExam(100, 90, \"Physics\", \"HigherMaths\")\n",
        "print(engineering)\n",
        "print('----------------------------------')\n",
        "print(engineering.examSyllabus())\n",
        "print(engineering.examParts())\n",
        "print('==================================')\n",
        "architecture = ScienceExam(100, 120, \"Physics\", \"HigherMaths\", \"Drawing\")\n",
        "print(architecture)\n",
        "print('----------------------------------')\n",
        "print(architecture.examSyllabus())\n",
        "print(architecture.examParts())"
      ],
      "metadata": {
        "id": "04uf13bmLWz7",
        "colab": {
          "base_uri": "https://localhost:8080/"
        },
        "outputId": "da3898c8-2d21-43d2-b6b0-27e1c7f7f412"
      },
      "execution_count": null,
      "outputs": [
        {
          "output_type": "stream",
          "name": "stdout",
          "text": [
            "Marks: 100 Time: 90 minutes Number of Parts: 4\n",
            "----------------------------------\n",
            "Maths , English , Physics , HigherMaths\n",
            "Part 1 - Maths\n",
            "Part 2 - English\n",
            "Part 3 - Physics\n",
            "Part 4 - HigherMaths\n",
            "\n",
            "==================================\n",
            "Marks: 100 Time: 120 minutes Number of Parts: 5\n",
            "----------------------------------\n",
            "Maths , English , Physics , HigherMaths , Drawing\n",
            "Part 1 - Maths\n",
            "Part 2 - English\n",
            "Part 3 - Physics\n",
            "Part 4 - HigherMaths\n",
            "Part 5 - Drawing\n",
            "\n"
          ]
        }
      ]
    },
    {
      "cell_type": "code",
      "source": [
        "#Task 6\n",
        "class Shape3D:\n",
        "    pi = 3.14159\n",
        "\n",
        "    def __init__(self, name='Default', radius=0):\n",
        "        self._area = 0\n",
        "        self._name = name\n",
        "        self._height = 'No need'\n",
        "        self._radius = radius\n",
        "\n",
        "    def calc_surface_area(self):\n",
        "        return 2 * Shape3D.pi * self._radius\n",
        "\n",
        "    def __str__(self):\n",
        "        return \"Radius: \" + str(self._radius)\n",
        "\n",
        "\n",
        "class Sphere(Shape3D):\n",
        "    def __init__(self, name, radius):\n",
        "        super().__init__(name, radius)\n",
        "\n",
        "        print(f\"Shape name: {self._name}, Area Formula: 4 * pi * r * r\")\n",
        "\n",
        "    def calc_surface_area(self):\n",
        "        self._area = super().calc_surface_area() * 2 * self._radius\n",
        "\n",
        "    def __str__(self):\n",
        "        return f\"{super().__str__()}, Height: {self._height} Area: {self._area}\"\n",
        "\n",
        "class Cylinder(Shape3D):\n",
        "    def __init__(self, name, radius, height):\n",
        "        super().__init__(name, radius)\n",
        "        self._height = height\n",
        "        print(f\"Shape name: {self._name}, Area Formula: 2 * pi * r * (r + h)\")\n",
        "\n",
        "    def calc_surface_area(self):\n",
        "        self._area = super().calc_surface_area() * (self._height + self._radius)\n",
        "\n",
        "    def __str__(self):\n",
        "        return f\"{super().__str__()}, Height: {self._height} Area: {self._area}\"\n",
        "\n",
        "\n",
        "sph = Sphere('Sphere', 5)\n",
        "print('----------------------------------')\n",
        "sph.calc_surface_area()\n",
        "print(sph)\n",
        "print('==================================')\n",
        "cyl = Cylinder('Cylinder', 5, 10)\n",
        "print('----------------------------------')\n",
        "cyl.calc_surface_area()\n",
        "print(cyl)"
      ],
      "metadata": {
        "id": "f8PDStt6LW3M",
        "colab": {
          "base_uri": "https://localhost:8080/"
        },
        "outputId": "63e72475-0616-4c17-9612-e40a90426e4b"
      },
      "execution_count": null,
      "outputs": [
        {
          "output_type": "stream",
          "name": "stdout",
          "text": [
            "Shape name: Sphere, Area Formula: 4 * pi * r * r\n",
            "----------------------------------\n",
            "Radius: 5, Height: No need Area: 314.159\n",
            "==================================\n",
            "Shape name: Cylinder, Area Formula: 2 * pi * r * (r + h)\n",
            "----------------------------------\n",
            "Radius: 5, Height: 10 Area: 471.2385\n"
          ]
        }
      ]
    },
    {
      "cell_type": "code",
      "source": [
        "#Task 7\n",
        "class PokemonBasic:\n",
        "    def __init__(self, name='Default', hp=0, weakness='None', type='Unknown'):\n",
        "        self.name = name\n",
        "        self.hit_point = hp\n",
        "        self.weakness = weakness\n",
        "        self.type = type\n",
        "\n",
        "    def get_type(self):\n",
        "        return 'Main type: ' + self.type\n",
        "\n",
        "    def get_move(self):\n",
        "        return 'Basic move: ' + 'Quick Attack'\n",
        "\n",
        "    def __str__(self):\n",
        "        return \"Name: \" + self.name + \", HP: \" + str(self.hit_point) + \", Weakness: \" + self.weakness\n",
        "\n",
        "\n",
        "class PokemonExtra(PokemonBasic):\n",
        "    def __init__(self, name, hp, weakness, type, s_type=None, o_moves=None):\n",
        "        super().__init__(name, hp, weakness, type)\n",
        "        self.s_type = s_type\n",
        "        self.o_moves = o_moves\n",
        "\n",
        "    def get_type(self):\n",
        "        if self.s_type != None:\n",
        "            return f\"{super().get_type()}, Secondary type: {self.s_type}\"\n",
        "        else:\n",
        "            return super().get_type()\n",
        "\n",
        "    def get_move(self):\n",
        "\n",
        "        if self.o_moves != None:\n",
        "            a = \"\"\n",
        "            for i in self.o_moves:\n",
        "                a += i + \", \"\n",
        "            a = a[:-2]\n",
        "            return f\"{super().get_move()}\\nOther move: {a}\"\n",
        "        else:\n",
        "            return super().get_move()\n",
        "\n",
        "\n",
        "print('\\n------------Basic Info:--------------')\n",
        "pk = PokemonBasic()\n",
        "print(pk)\n",
        "print(pk.get_type())\n",
        "print(pk.get_move())\n",
        "\n",
        "print('\\n------------Pokemon 1 Info:-------------')\n",
        "charmander = PokemonExtra('Charmander', 39, 'Water', 'Fire')\n",
        "print(charmander)\n",
        "print(charmander.get_type())\n",
        "print(charmander.get_move())\n",
        "\n",
        "print('\\n------------Pokemon 2 Info:-------------')\n",
        "charizard = PokemonExtra('Charizard', 78, 'Water', 'Fire', 'Flying', ('Fire Spin', 'Fire Blaze'))\n",
        "print(charizard)\n",
        "print(charizard.get_type())\n",
        "print(charizard.get_move())"
      ],
      "metadata": {
        "id": "k2ejHiSbLW6L",
        "colab": {
          "base_uri": "https://localhost:8080/"
        },
        "outputId": "c3b9f5cf-d75c-49f0-a4a8-4b102d9f8ea5"
      },
      "execution_count": null,
      "outputs": [
        {
          "output_type": "stream",
          "name": "stdout",
          "text": [
            "\n",
            "------------Basic Info:--------------\n",
            "Name: Default, HP: 0, Weakness: None\n",
            "Main type: Unknown\n",
            "Basic move: Quick Attack\n",
            "\n",
            "------------Pokemon 1 Info:-------------\n",
            "Name: Charmander, HP: 39, Weakness: Water\n",
            "Main type: Fire\n",
            "Basic move: Quick Attack\n",
            "\n",
            "------------Pokemon 2 Info:-------------\n",
            "Name: Charizard, HP: 78, Weakness: Water\n",
            "Main type: Fire, Secondary type: Flying\n",
            "Basic move: Quick Attack\n",
            "Other move: Fire Spin, Fire Blaze\n"
          ]
        }
      ]
    },
    {
      "cell_type": "code",
      "source": [
        "#Task 8\n",
        "class Team:\n",
        "\n",
        "    def __init__(self, name):\n",
        "        self.name = \"default\"\n",
        "        self.total_player = 5\n",
        "\n",
        "    def info(self):\n",
        "        print(\"We love sports\")\n",
        "\n",
        "\n",
        "class FootBallTeam(Team):\n",
        "    def __init__(self, n):\n",
        "        super().__init__(n)\n",
        "        self.name = n\n",
        "        self.total_player = 11\n",
        "\n",
        "    def info(self):\n",
        "        print(f\"Our name is {self.name}\")\n",
        "        print(f\"We play Football\")\n",
        "        super().info()\n",
        "\n",
        "class CricketTeam(Team):\n",
        "    def __init__(self, n):\n",
        "        super().__init__(n)\n",
        "        self.name = n\n",
        "        self.total_player = 11\n",
        "\n",
        "    def info(self):\n",
        "        print(f\"Our name is {self.name}\")\n",
        "        print(f\"We play Cricket\")\n",
        "        super().info()\n",
        "\n",
        "class Team_test:\n",
        "    def check(self, tm):\n",
        "        print(\"=========================\")\n",
        "        print(\"Total Player: \", tm.total_player)\n",
        "        tm.info()\n",
        "\n",
        "\n",
        "f = FootBallTeam(\"Brazil\")\n",
        "c = CricketTeam(\"Bangladesh\")\n",
        "test = Team_test()\n",
        "test.check(f)\n",
        "test.check(c)"
      ],
      "metadata": {
        "id": "k2cN5P6SLW-7",
        "colab": {
          "base_uri": "https://localhost:8080/"
        },
        "outputId": "9d06268d-71ef-4883-c41e-97a4b86faf3e"
      },
      "execution_count": null,
      "outputs": [
        {
          "output_type": "stream",
          "name": "stdout",
          "text": [
            "=========================\n",
            "Total Player:  11\n",
            "Our name is Brazil\n",
            "We play Football\n",
            "We love sports\n",
            "=========================\n",
            "Total Player:  11\n",
            "Our name is Bangladesh\n",
            "We play Cricket\n",
            "We love sports\n"
          ]
        }
      ]
    },
    {
      "cell_type": "code",
      "source": [
        "#Task 9\n",
        "class Pokemon:\n",
        "\n",
        "    def __init__(self, p):\n",
        "        self.pokemon = p\n",
        "        self.pokemon_type = \"Needs to be set\"\n",
        "        self.pokemon_weakness = \"Needs to be set\"\n",
        "\n",
        "    def kind(self):\n",
        "        return self.pokemon_type\n",
        "\n",
        "    def weakness(self):\n",
        "        return self.pokemon_weakness\n",
        "\n",
        "    def what_am_i(self):\n",
        "        print(\"I am a Pokemon.\")\n",
        "\n",
        "\n",
        "class Pikachu(Pokemon):\n",
        "    def __init__(self, p='Pikachu'):\n",
        "        super().__init__(p)\n",
        "        self.pokemon_type = \"Electric\"\n",
        "        self.pokemon_weakness = \"Ground\"\n",
        "\n",
        "    def what_am_i(self):\n",
        "        super().what_am_i()\n",
        "        print('I am Pikachu.')\n",
        "\n",
        "\n",
        "class Charmander(Pokemon):\n",
        "    def __init__(self, p='Charmander'):\n",
        "        super().__init__(p)\n",
        "        self.pokemon_type = \"Fire\"\n",
        "        self.pokemon_weakness = \"Water, Ground and Rock\"\n",
        "\n",
        "    def what_am_i(self):\n",
        "        super().what_am_i()\n",
        "        print('I am Charmander.')\n",
        "\n",
        "\n",
        "pk1 = Pikachu()\n",
        "print(\"Pokemon:\", pk1.pokemon)\n",
        "print(\"Type:\", pk1.kind())\n",
        "print(\"Weakness:\", pk1.weakness())\n",
        "pk1.what_am_i()\n",
        "print(\"========================\")\n",
        "c1 = Charmander()\n",
        "print(\"Pokemon:\", c1.pokemon)\n",
        "print(\"Type:\", c1.kind())\n",
        "print(\"Weakness:\", c1.weakness())\n",
        "c1.what_am_i()\n"
      ],
      "metadata": {
        "id": "KDarfRyYLXCD",
        "colab": {
          "base_uri": "https://localhost:8080/"
        },
        "outputId": "304447ec-1a21-43d0-fe7d-946fe14214c4"
      },
      "execution_count": null,
      "outputs": [
        {
          "output_type": "stream",
          "name": "stdout",
          "text": [
            "Pokemon: Pikachu\n",
            "Type: Electric\n",
            "Weakness: Ground\n",
            "I am a Pokemon.\n",
            "I am Pikachu.\n",
            "========================\n",
            "Pokemon: Charmander\n",
            "Type: Fire\n",
            "Weakness: Water, Ground and Rock\n",
            "I am a Pokemon.\n",
            "I am Charmander.\n"
          ]
        }
      ]
    },
    {
      "cell_type": "code",
      "source": [
        "#Task 10\n",
        "class Department:\n",
        "    def __init__(self, s):\n",
        "        self.semester = s\n",
        "        self.name = \"Default\"\n",
        "        self.id = -1\n",
        "    def student_info(self):\n",
        "        print(\"Name:\", self.name)\n",
        "        print(\"ID:\", self.id)\n",
        "    def courses(self, c1, c2, c3):\n",
        "        print(\"No courses Approved yet!\")\n",
        "\n",
        "class CSE(Department):\n",
        "    def __init__(self,name,id,semester):\n",
        "        super().__init__(semester)\n",
        "        self.id = id\n",
        "        self.name = name\n",
        "    def courses(self, c1, c2, c3):\n",
        "        print(f\"Courses Approved to this CSE student in {self.semester} semester:\")\n",
        "        print(f\"{c1}\\n{c2}\\n{c3}\")\n",
        "\n",
        "class EEE(Department):\n",
        "    def __init__(self,name,id,s):\n",
        "        super().__init__(s)\n",
        "        self.name = name\n",
        "        self.id = id\n",
        "\n",
        "    def courses(self, c1, c2, c3):\n",
        "        print(f\"Courses Approved to this EEE student in {self.semester} semester:\")\n",
        "        print(f\"{c1}\\n{c2}\\n{c3}\")\n",
        "\n",
        "\n",
        "s1 = CSE(\"Rahim\", 16101328,\"Spring2016\")\n",
        "s1.student_info()\n",
        "s1.courses(\"CSE110\", \"MAT110\", \"ENG101\")\n",
        "print(\"==================\")\n",
        "s2 = EEE(\"Tanzim\", 18101326, \"Spring2018\")\n",
        "s2.student_info()\n",
        "s2.courses(\"Mat110\", \"PHY111\", \"ENG101\")\n",
        "print(\"==================\")\n",
        "s3 = CSE(\"Rudana\", 18101326, \"Fall2017\")\n",
        "s3.student_info()\n",
        "s3.courses(\"CSE111\", \"PHY101\", \"MAT120\")\n",
        "print(\"==================\")\n",
        "s4 = EEE(\"Zainab\", 19201623, \"Summer2019\")\n",
        "s4.student_info()\n",
        "s4.courses(\"EEE201\", \"PHY112\", \"MAT120\")"
      ],
      "metadata": {
        "id": "tPK6AsORLXEr",
        "colab": {
          "base_uri": "https://localhost:8080/"
        },
        "outputId": "8f0204db-3d96-4fa8-c2c6-0c4a26026b01"
      },
      "execution_count": null,
      "outputs": [
        {
          "output_type": "stream",
          "name": "stdout",
          "text": [
            "Name: Rahim\n",
            "ID: 16101328\n",
            "Courses Approved to this CSE student in Spring2016 semester:\n",
            "CSE110\n",
            "MAT110\n",
            "ENG101\n",
            "==================\n",
            "Name: Tanzim\n",
            "ID: 18101326\n",
            "Courses Approved to this EEE student in Spring2018 semester:\n",
            "Mat110\n",
            "PHY111\n",
            "ENG101\n",
            "==================\n",
            "Name: Rudana\n",
            "ID: 18101326\n",
            "Courses Approved to this CSE student in Fall2017 semester:\n",
            "CSE111\n",
            "PHY101\n",
            "MAT120\n",
            "==================\n",
            "Name: Zainab\n",
            "ID: 19201623\n",
            "Courses Approved to this EEE student in Summer2019 semester:\n",
            "EEE201\n",
            "PHY112\n",
            "MAT120\n"
          ]
        }
      ]
    }
  ]
}