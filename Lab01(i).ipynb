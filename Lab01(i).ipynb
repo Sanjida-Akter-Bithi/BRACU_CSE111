{
  "nbformat": 4,
  "nbformat_minor": 0,
  "metadata": {
    "colab": {
      "provenance": [],
      "authorship_tag": "ABX9TyPk/4XgAUoG2qD7ppc7VNaN",
      "include_colab_link": true
    },
    "kernelspec": {
      "name": "python3",
      "display_name": "Python 3"
    },
    "language_info": {
      "name": "python"
    }
  },
  "cells": [
    {
      "cell_type": "markdown",
      "metadata": {
        "id": "view-in-github",
        "colab_type": "text"
      },
      "source": [
        "<a href=\"https://colab.research.google.com/github/Sanjida-Akter-Bithi/BRACU_CSE111/blob/main/Lab01(i).ipynb\" target=\"_parent\"><img src=\"https://colab.research.google.com/assets/colab-badge.svg\" alt=\"Open In Colab\"/></a>"
      ]
    },
    {
      "cell_type": "markdown",
      "source": [
        "**STRING**"
      ],
      "metadata": {
        "id": "IGlA8Kmfvg3i"
      }
    },
    {
      "cell_type": "markdown",
      "source": [
        "Task 01"
      ],
      "metadata": {
        "id": "fVIfgvD1p5y9"
      }
    },
    {
      "cell_type": "code",
      "source": [
        "#Task 01........(OK)\n",
        "A=input()\n",
        "low_count=0\n",
        "upper_count=0\n",
        "for i in A:\n",
        "    if \"A\"<=i<=\"Z\":\n",
        "        upper_count+=1\n",
        "    elif \"a\"<=i<=\"z\" :\n",
        "        low_count+=1\n",
        "B=\"\"\n",
        "for i in A:\n",
        "    if upper_count>low_count:\n",
        "        if \"A\"<=i<=\"Z\":\n",
        "            B+=i\n",
        "        else:\n",
        "            B+=(chr(ord(i)-32))\n",
        "\n",
        "    if low_count>=upper_count:\n",
        "        if \"a\" <= i <= \"z\":\n",
        "            B+=i\n",
        "        else:\n",
        "            B+=(chr(ord(i)+32))\n",
        "print(B)"
      ],
      "metadata": {
        "id": "PeCKIqSSp3d-",
        "colab": {
          "base_uri": "https://localhost:8080/"
        },
        "outputId": "6758aab7-c028-4a18-c1d2-88dc25efddf1"
      },
      "execution_count": null,
      "outputs": [
        {
          "output_type": "stream",
          "name": "stdout",
          "text": [
            "HOUSE\n"
          ]
        }
      ]
    },
    {
      "cell_type": "code",
      "source": [
        "#Task 1\n",
        "string=input()\n",
        "ans=\"\"\n",
        "upper_letter_count=0\n",
        "lower_letter_counter=0\n",
        "for char in string:\n",
        "\n",
        "    if char.isupper():\n",
        "        upper_letter_count+=1\n",
        "    elif char.islower():\n",
        "        lower_letter_counter+=1\n",
        "#Checking the number  of uppercase and lowercase letters.\n",
        "#Condition\n",
        "if upper_letter_count>lower_letter_counter:\n",
        "    for char in string:\n",
        "        char=char.upper()\n",
        "        ans+=char\n",
        "elif lower_letter_counter>=upper_letter_count:\n",
        "    for char in string:\n",
        "        char=char.lower()\n",
        "        ans+=char\n",
        "print(ans)"
      ],
      "metadata": {
        "colab": {
          "base_uri": "https://localhost:8080/"
        },
        "id": "likiKUZe8vsy",
        "outputId": "b9291a7b-36d6-4228-abaf-47a9438df81c"
      },
      "execution_count": null,
      "outputs": [
        {
          "output_type": "stream",
          "name": "stdout",
          "text": [
            "BaNaNa\n",
            "banana\n"
          ]
        }
      ]
    },
    {
      "cell_type": "markdown",
      "source": [
        "Task 02"
      ],
      "metadata": {
        "id": "Nv08ZHRCcz60"
      }
    },
    {
      "cell_type": "code",
      "source": [
        "#Task02........(OK)\n",
        "A=input()\n",
        "l_count=0\n",
        "n_count=0\n",
        "\n",
        "for i in A:\n",
        "\n",
        "    if \"A\"<=i<=\"Z\" or \"a\"<=i<=\"z\":\n",
        "        l_count+=1\n",
        "    elif  \"0\"<=i<=\"9\":\n",
        "        n_count+=1\n",
        "if  l_count>0 and  n_count>0 :\n",
        "    print(\"Mixed\")\n",
        "elif l_count>0:\n",
        "    print(\"word\")\n",
        "elif n_count>0:\n",
        "    print(\"Number\")"
      ],
      "metadata": {
        "colab": {
          "base_uri": "https://localhost:8080/"
        },
        "id": "ypcrTaZmcnvV",
        "outputId": "4c8ea2ae-7b8c-4659-edc7-c4f8ef65d8f3"
      },
      "execution_count": null,
      "outputs": [
        {
          "output_type": "stream",
          "name": "stdout",
          "text": [
            "213213\n",
            "Number\n"
          ]
        }
      ]
    },
    {
      "cell_type": "code",
      "source": [
        "input_string=input(\"Enter the string: \")\n",
        "numbers=False\n",
        "letters= False\n",
        "for index in range(len(input_string)):\n",
        "    if (48<=ord(input_string[index])<=57):\n",
        "        numbers= True\n",
        "    elif (65<=ord(input_string[index])<=90) or (97<=ord(input_string[index])<=122):\n",
        "        letters= True\n",
        "#print(letters)\n",
        "#print(numbers)\n",
        "if (letters== True) and (numbers== True):\n",
        "    print(\"MIXED\")\n",
        "elif letters==True:\n",
        "    print(\"WORD\")\n",
        "elif numbers==True:\n",
        "    print(\"NUMBER\")"
      ],
      "metadata": {
        "colab": {
          "base_uri": "https://localhost:8080/"
        },
        "id": "l1OppLus_8Fh",
        "outputId": "6301b5a6-2c41-4bda-f303-7d769583568d"
      },
      "execution_count": null,
      "outputs": [
        {
          "output_type": "stream",
          "name": "stdout",
          "text": [
            "Enter the string: 213213\n",
            "NUMBER\n"
          ]
        }
      ]
    },
    {
      "cell_type": "markdown",
      "source": [
        "Task 03"
      ],
      "metadata": {
        "id": "d3vmO6mkC3vR"
      }
    },
    {
      "cell_type": "code",
      "source": [
        "#Task 03........(OK)\n",
        "A=input()\n",
        "B=\"\"\n",
        "C=\"\"\n",
        "for i in range(len(A)):\n",
        "    if \"A\"<=A[i]<=\"Z\":\n",
        "        B+=str(i)\n",
        "        break\n",
        "for j in range(int(B)+1,len(A),1) :\n",
        "    if \"A\"<=A[j]<=\"Z\":\n",
        "        C+=str(j)\n",
        "        break\n",
        "if A[int(B)+1:int(C)]==\"\":\n",
        "    print(\"BLANK\")\n",
        "else:\n",
        "    print(A[int(B)+1:int(C)])"
      ],
      "metadata": {
        "id": "bxi0mQQNC2ap",
        "colab": {
          "base_uri": "https://localhost:8080/"
        },
        "outputId": "86e27f14-5892-425f-a281-96b655fee321"
      },
      "execution_count": null,
      "outputs": [
        {
          "output_type": "stream",
          "name": "stdout",
          "text": [
            "baNgladEsh\n",
            "glad\n"
          ]
        }
      ]
    },
    {
      "cell_type": "markdown",
      "source": [
        "Task 04\n"
      ],
      "metadata": {
        "id": "Fy8n7TwCFtOR"
      }
    },
    {
      "cell_type": "code",
      "source": [
        "#Task 04........(OK)\n",
        "A=\"harry\"\n",
        "B=\"hermione\"\n",
        "C=\"\"\n",
        "for i in A:\n",
        "    if i in B:\n",
        "        C+=i\n",
        "D=\"\"\n",
        "for i in B:\n",
        "    if i in A:\n",
        "       D+=i\n",
        "e=C+D\n",
        "if e==\"\":\n",
        "    print(\"Nothing in common\")\n",
        "else:\n",
        "    print(e)\n"
      ],
      "metadata": {
        "id": "Kk-lDq3MFsIx",
        "colab": {
          "base_uri": "https://localhost:8080/"
        },
        "outputId": "f1d38a0f-e84a-4925-9208-2626ad77b732"
      },
      "execution_count": null,
      "outputs": [
        {
          "output_type": "stream",
          "name": "stdout",
          "text": [
            "hrrhr\n"
          ]
        }
      ]
    },
    {
      "cell_type": "markdown",
      "source": [
        "Task5\n"
      ],
      "metadata": {
        "id": "4_xQGx-Iho89"
      }
    },
    {
      "cell_type": "code",
      "source": [
        "#Task 05........(OK)\n",
        "A=input()\n",
        "is_u=False\n",
        "is_l=False\n",
        "is_d=False\n",
        "is_s=False\n",
        "for i in A:\n",
        "    if \"A\"<=i<=\"Z\":\n",
        "        is_u=True\n",
        "    elif \"a\" <=i<=\"z\":\n",
        "        is_l=True\n",
        "    elif \"0\" <=i<=\"9\":\n",
        "        is_d=True\n",
        "    else:\n",
        "        is_s=True\n",
        "B=\"\"\n",
        "if is_l==False :\n",
        "    B+=\"Lowercase character missing, \"\n",
        "if is_u==False:\n",
        "    B+=\"Uppercase character missing, \"\n",
        "if is_d==False:\n",
        "    B+=\"Digit missing, \"\n",
        "if is_s==False :\n",
        "    B+=\"Special character missing, \"\n",
        "\n",
        "\n",
        "if B==\"\":\n",
        "  print(\"OK\")\n",
        "else:\n",
        "  print(B[:-2])"
      ],
      "metadata": {
        "colab": {
          "base_uri": "https://localhost:8080/"
        },
        "id": "x_OC482yuEDN",
        "outputId": "fed59fad-dc4b-4856-eff0-28b243359b77"
      },
      "execution_count": null,
      "outputs": [
        {
          "output_type": "stream",
          "name": "stdout",
          "text": [
            "ohmybracu\n",
            "Uppercase character missing, Digit missing, Special character missing\n"
          ]
        }
      ]
    },
    {
      "cell_type": "markdown",
      "source": [
        "List\n",
        "task 01\n"
      ],
      "metadata": {
        "id": "q8CGEhEQG03X"
      }
    },
    {
      "cell_type": "code",
      "source": [
        "#List(01)........(OK)\n",
        "X=[]\n",
        "\n",
        "while True:\n",
        "    A=input()\n",
        "    if A==\"STOP\":\n",
        "        break\n",
        "\n",
        "    X+=[A]\n",
        "#print(X)\n",
        "count=0\n",
        "W=[]\n",
        "for i in X:\n",
        "    for j in X:\n",
        "        if i==j:\n",
        "            count+=1\n",
        "\n",
        "    if i not in W :\n",
        "        W+=[i]\n",
        "        print(f\"{i}-{count}times\")\n",
        "    count=0"
      ],
      "metadata": {
        "id": "G_E0O5irG3M_",
        "colab": {
          "base_uri": "https://localhost:8080/"
        },
        "outputId": "3f63167f-ba19-454f-eaf4-2f448e9abfb3"
      },
      "execution_count": null,
      "outputs": [
        {
          "output_type": "stream",
          "name": "stdout",
          "text": [
            "10\n",
            "20\n",
            "20\n",
            "30\n",
            "10\n",
            "50\n",
            "90\n",
            "STOP\n",
            "['10', '20', '20', '30', '10', '50', '90']\n",
            "10-2times\n",
            "20-2times\n",
            "30-1times\n",
            "50-1times\n",
            "90-1times\n"
          ]
        }
      ]
    },
    {
      "cell_type": "code",
      "source": [
        "#List(02)........(OK)\n",
        "import math\n",
        "S=-math.inf\n",
        "B=[]\n",
        "N= int(input())\n",
        "for i in range(N):\n",
        "    sum = 0\n",
        "    A_old=input().split(\" \")\n",
        "    A=[]\n",
        "    for i in A_old:\n",
        "      A+=[int(i)]\n",
        "    for i in A:\n",
        "\n",
        "        sum+=i\n",
        "    if sum>S:\n",
        "        S=sum\n",
        "        B = A\n",
        "print(S)\n",
        "print(B)\n"
      ],
      "metadata": {
        "colab": {
          "base_uri": "https://localhost:8080/"
        },
        "id": "MaTlNXplopDw",
        "outputId": "fe5c5f5d-04a8-466a-843b-7ec8bebf6edc"
      },
      "execution_count": null,
      "outputs": [
        {
          "output_type": "stream",
          "name": "stdout",
          "text": [
            "4\n",
            "1 2 3\n",
            "4 5 6\n",
            "10 11 12\n",
            "7 8 9\n",
            "33\n",
            "[10, 11, 12]\n"
          ]
        }
      ]
    },
    {
      "cell_type": "code",
      "source": [
        "#list(03)........(OK)\n",
        "A=input().split(\" \")\n",
        "B=input().split(\" \")\n",
        "X=[]\n",
        "for i in A:\n",
        "    for j in B:\n",
        "        X+=[int(i)*int(j)]\n",
        "print(X)\n",
        "\n"
      ],
      "metadata": {
        "id": "5NS2Z0dRlmrB",
        "colab": {
          "base_uri": "https://localhost:8080/"
        },
        "outputId": "108a9e75-c401-43a9-e3a2-2c2cc011f89e"
      },
      "execution_count": null,
      "outputs": [
        {
          "output_type": "stream",
          "name": "stdout",
          "text": [
            "2 3 6\n",
            "3 4 5\n",
            "[6, 8, 10, 9, 12, 15, 18, 24, 30]\n"
          ]
        }
      ]
    },
    {
      "cell_type": "code",
      "source": [
        "#list task 4........(OK)\n",
        "\n",
        "while 1==1:\n",
        "  a = input().split(\" \")\n",
        "  if \"STOP\" in a:\n",
        "    break\n",
        "  else:\n",
        "    b = []\n",
        "\n",
        "    count = 0\n",
        "    for i in a:\n",
        "      b += [int(i)]\n",
        "      count += 1\n",
        "\n",
        "    c = []\n",
        "    for i in range(1, count):\n",
        "      c += [i]\n",
        "\n",
        "    d = []\n",
        "    for i in range(0,len(b)-1):\n",
        "      if (b[i] - b[i+1]) > 0:\n",
        "        d += [(b[i] - b[i+1])]\n",
        "      elif (b[i] - b[i+1]) < 0:\n",
        "        d += [-(b[i] - b[i+1])]\n",
        "\n",
        "    is_ub_jumper = True\n",
        "    for i in c:\n",
        "      if i not in d:\n",
        "        is_ub_jumper = False\n",
        "        break\n",
        "      else:\n",
        "        is_ub_jumper = True\n",
        "\n",
        "    if is_ub_jumper == True:\n",
        "      print(\"UB JUMPER\")\n",
        "    else:\n",
        "      print(\"NOT UB JUMPER\")"
      ],
      "metadata": {
        "colab": {
          "base_uri": "https://localhost:8080/"
        },
        "id": "7seeZILSXXTS",
        "outputId": "159441bd-db8d-4ac1-d647-04160232d2bc"
      },
      "execution_count": null,
      "outputs": [
        {
          "name": "stdout",
          "output_type": "stream",
          "text": [
            "STOP\n"
          ]
        }
      ]
    },
    {
      "cell_type": "code",
      "source": [
        "#List(05)........(OK)\n",
        "X = input().split()\n",
        "Y = []\n",
        "for i in X:\n",
        "    Y += [int(i)]\n",
        "Z = input().split()\n",
        "d = []\n",
        "for i in Z:\n",
        "    d += [int(i)]\n",
        "e = []\n",
        "for i in d:\n",
        "    if i+Y[1] <= 5:\n",
        "        e += [i]\n",
        "\n",
        "print(len(e)//3)\n"
      ],
      "metadata": {
        "colab": {
          "base_uri": "https://localhost:8080/"
        },
        "id": "zeMPSncYXXYp",
        "outputId": "c7b88862-e8fe-448a-b8cf-0a6c22e446e1"
      },
      "execution_count": null,
      "outputs": [
        {
          "output_type": "stream",
          "name": "stdout",
          "text": [
            "5 2\n",
            "0 4 5 1 0\n",
            "1\n"
          ]
        }
      ]
    },
    {
      "cell_type": "code",
      "source": [
        "#Task 5\n",
        "a=input().split(\" \")\n",
        "n=int(a[0])\n",
        "k=int(a[1])\n",
        "b=input().split(\" \")\n",
        "\n",
        "for i in range(len(b)):\n",
        "  b[i]=5-int(b[i])\n",
        "\n",
        "c=0\n",
        "for i in range(len(b)):\n",
        "  if b[i]>k:\n",
        "    c+=1\n",
        "d=int(c/3)\n",
        "print(d)"
      ],
      "metadata": {
        "colab": {
          "base_uri": "https://localhost:8080/"
        },
        "id": "5T8pOxK5AjiA",
        "outputId": "1ac029f8-2107-4823-f86c-80c786266ae6"
      },
      "execution_count": null,
      "outputs": [
        {
          "output_type": "stream",
          "name": "stdout",
          "text": [
            "5 2\n",
            "0 4 5 1 0\n",
            "1\n"
          ]
        }
      ]
    },
    {
      "cell_type": "code",
      "source": [
        "#Dictionart and tuple(01)........(OK)\n",
        "a1 = input()\n",
        "a2 = input()\n",
        "a3 = a1 + \",\" + a2\n",
        "\n",
        "b = a3.split(\",\")\n",
        "c = {}\n",
        "\n",
        "for i in b:\n",
        "  item = i.split(\": \")\n",
        "  if item[0] in c:\n",
        "    c[item[0]] += int(item[1])\n",
        "  else:\n",
        "    c[item[0]] = int(item[1])\n",
        "\n",
        "l1 = []\n",
        "\n",
        "for i,j in c.items():\n",
        "  if j not in l1:\n",
        "    l1 += [j]\n",
        "\n",
        "\n",
        "for i in range(len(l1)):\n",
        "    min_index = i\n",
        "\n",
        "    for j in range(i + 1, len(l1)):\n",
        "\n",
        "        if l1[j] < l1[min_index]:\n",
        "            min_index = j\n",
        "\n",
        "    (l1[i], l1[min_index]) = (l1[min_index], l1[i])\n",
        "\n",
        "\n",
        "print(c)\n",
        "print(tuple(l1))"
      ],
      "metadata": {
        "id": "W8PPlzBXXXcx",
        "colab": {
          "base_uri": "https://localhost:8080/"
        },
        "outputId": "f17b4441-40d8-4664-9445-8a1930a73611"
      },
      "execution_count": null,
      "outputs": [
        {
          "output_type": "stream",
          "name": "stdout",
          "text": [
            "a: 100, b: 100, c: 200, d: 300\n",
            "a: 300, b: 200, d: 400, e: 200\n",
            "{'a': 400, ' b': 300, ' c': 200, ' d': 700, ' e': 200}\n",
            "(200, 300, 400, 700)\n"
          ]
        }
      ]
    },
    {
      "cell_type": "code",
      "source": [
        "#Dictionart and tuple(02)........(OK)\n",
        "d = {}\n",
        "while True:\n",
        "  a = input()\n",
        "  if a == \"STOP\":\n",
        "    break\n",
        "  else:\n",
        "    if a in d:\n",
        "      d[a] += 1\n",
        "    else:\n",
        "      d[a] = 1\n",
        "for i,j in d.items():\n",
        "  print(f\"{i} - {j} times\")"
      ],
      "metadata": {
        "id": "BSujGZIZXXgh",
        "colab": {
          "base_uri": "https://localhost:8080/"
        },
        "outputId": "29899787-0b2b-4755-ead3-0136d2df9a60"
      },
      "execution_count": null,
      "outputs": [
        {
          "output_type": "stream",
          "name": "stdout",
          "text": [
            "10\n",
            "20\n",
            "20\n",
            "30\n",
            "10\n",
            "50\n",
            "90\n",
            "STOP\n",
            "10 - 2 times\n",
            "20 - 2 times\n",
            "30 - 1 times\n",
            "50 - 1 times\n",
            "90 - 1 times\n"
          ]
        }
      ]
    },
    {
      "cell_type": "code",
      "source": [
        "#Dictionart and tuple(03)........(OK)\n",
        "a = input()\n",
        "b = a.split(\",\")\n",
        "c = {}\n",
        "\n",
        "for i in b:\n",
        "    item = i.split(\" : \")\n",
        "    c[item[0]] = item[1]\n",
        "d = {}\n",
        "for i,j in c.items():\n",
        "    if j not in d:\n",
        "        d[j] = [i]\n",
        "    else:\n",
        "        d[j] += [i]\n",
        "print(c)\n",
        "print(d)"
      ],
      "metadata": {
        "id": "6KJFR7XmXXkR",
        "colab": {
          "base_uri": "https://localhost:8080/"
        },
        "outputId": "0c3abef1-b9ec-472e-e4c8-0e5b1682b4a1"
      },
      "execution_count": null,
      "outputs": [
        {
          "output_type": "stream",
          "name": "stdout",
          "text": [
            "key1 : value1, key2 : value2, key3 : value1\n",
            "{'key1': 'value1', ' key2': 'value2', ' key3': 'value1'}\n",
            "{'value1': ['key1', ' key3'], 'value2': [' key2']}\n"
          ]
        }
      ]
    },
    {
      "cell_type": "code",
      "source": [
        "#Dictionart and tuple(04)........(OK)\n",
        "d1 = {1: \",.?!:\",2 : \"ABC\",3 : \"DEF\",4 : \"GHI\",5 : \"JKL\",6 : \"MNO\",7 : \"PQRS\",8 : \"TUV\",9 : \"WXYZ\",0 : \"Space\"}\n",
        "\n",
        "a = input().upper()\n",
        "\n",
        "\n",
        "\n",
        "for i in a:\n",
        "    if i == \" \":\n",
        "        print(0,end=\"\")\n",
        "    else:\n",
        "        for x,y in d1.items():\n",
        "            if i in y:\n",
        "                for j in range(len(y)):\n",
        "                    if y[j] == i:\n",
        "                        print(str(x)*(j+1),end=\"\")\n"
      ],
      "metadata": {
        "id": "pt4Vs7ycXXnh",
        "colab": {
          "base_uri": "https://localhost:8080/"
        },
        "outputId": "d9ab2892-80ac-427b-a0b5-a3b2668d3fb8"
      },
      "execution_count": null,
      "outputs": [
        {
          "output_type": "stream",
          "name": "stdout",
          "text": [
            "Hello, World!\n",
            "443355555566610966677755531111"
          ]
        }
      ]
    },
    {
      "cell_type": "code",
      "source": [],
      "metadata": {
        "id": "kWfPdcPsXXqB"
      },
      "execution_count": null,
      "outputs": []
    },
    {
      "cell_type": "code",
      "source": [],
      "metadata": {
        "id": "JHLVLGI6XXuB"
      },
      "execution_count": null,
      "outputs": []
    },
    {
      "cell_type": "code",
      "source": [],
      "metadata": {
        "id": "vSDbzUM5XXv5"
      },
      "execution_count": null,
      "outputs": []
    },
    {
      "cell_type": "code",
      "source": [
        "list1 = input().split\n",
        "list2 = input().split\n",
        "cross_product = []\n",
        "\n",
        "for i in list1:\n",
        "    for j in list2:\n",
        "        cross_product.append(i * j)\n",
        "\n",
        "print(cross_product)"
      ],
      "metadata": {
        "id": "ENMpvwwaXXxp",
        "colab": {
          "base_uri": "https://localhost:8080/"
        },
        "outputId": "f4e0706f-0943-4270-9738-31c955bd08b0"
      },
      "execution_count": null,
      "outputs": [
        {
          "output_type": "stream",
          "name": "stdout",
          "text": [
            "[4, 5, 6, 8, 10, 12, 12, 15, 18]\n"
          ]
        }
      ]
    },
    {
      "cell_type": "code",
      "source": [],
      "metadata": {
        "id": "8J-R2yYG-eOA"
      },
      "execution_count": null,
      "outputs": []
    },
    {
      "cell_type": "code",
      "source": [
        "# Get the number of lists\n",
        "N = int(input())\n",
        "lists = []\n",
        "sums = []\n",
        "# Get the N lists=\n",
        "for i in range(N):\n",
        "    current_list = list(map(int, input().split()))\n",
        "    lists.append(current_list)\n",
        "    current_sum = sum(current_list)\n",
        "    sums.append(current_sum)\n",
        "# Find the highest sum and its respective list\n",
        "highest_sum = max(sums)\n",
        "highest_sum_index = sums.index(highest_sum)\n",
        "highest_sum_list = lists[highest_sum_index]\n",
        "# Print the highest sum and its respective list\n",
        "print(\"The highest sum is {0} from the list: {1}\".format (highest_sum,highest_sum_list))\n",
        "5\n",
        "1 2 4 5\n",
        "6 7"
      ],
      "metadata": {
        "id": "0OUv3I8p-ebY"
      },
      "execution_count": null,
      "outputs": []
    }
  ]
}